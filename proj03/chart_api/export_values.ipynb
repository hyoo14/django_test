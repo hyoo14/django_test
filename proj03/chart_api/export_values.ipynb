{
 "cells": [
  {
   "cell_type": "code",
   "execution_count": 188,
   "id": "64549e02",
   "metadata": {},
   "outputs": [],
   "source": [
    "import pandas as pd\n",
    "\n",
    "\n",
    "# def export_value():\n",
    "#     authors = pd.read_excel(\"맘스터치권한세팅.xlsx\")\n",
    "#     print(authors)\n",
    "\n",
    "\n",
    "\n",
    "# export_value()"
   ]
  },
  {
   "cell_type": "code",
   "execution_count": 189,
   "id": "0857b08a",
   "metadata": {},
   "outputs": [],
   "source": [
    "authors = pd.read_excel(\"맘스터치권한세팅.xlsx\")"
   ]
  },
  {
   "cell_type": "code",
   "execution_count": 199,
   "id": "fc672f54",
   "metadata": {},
   "outputs": [],
   "source": [
    "authors = pd.read_excel(\"datatest01.xlsx\")"
   ]
  },
  {
   "cell_type": "code",
   "execution_count": 200,
   "id": "c09fb5d9",
   "metadata": {},
   "outputs": [
    {
     "name": "stdout",
     "output_type": "stream",
     "text": [
      "<class 'pandas.core.frame.DataFrame'>\n"
     ]
    }
   ],
   "source": [
    "print(type(authors) )"
   ]
  },
  {
   "cell_type": "code",
   "execution_count": 201,
   "id": "2d4596a2",
   "metadata": {},
   "outputs": [],
   "source": [
    "#그룹 컬럼 머지 반영 (row = 1)\n",
    "for i in range(1, authors.shape[1]):\n",
    "    if pd.isna( authors.iloc[1,i] ) and pd.notna( authors.iloc[1,i-1] ):\n",
    "        authors.iloc[1,i] = authors.iloc[1,i-1]\n",
    "        \n",
    "#세부그룹 컬럼 머지 반영 (row = 2)\n",
    "for i in range(1, authors.shape[1]):\n",
    "    if pd.isna( authors.iloc[2,i] ) and pd.notna( authors.iloc[2,i-1] ):\n",
    "        authors.iloc[2,i] = authors.iloc[2,i-1]\n",
    "\n",
    "#직책 컬럼 머지 반영 (row = 3)     \n",
    "for i in range(1, authors.shape[1]):\n",
    "    if pd.isna( authors.iloc[3,i] ) and pd.notna( authors.iloc[3,i-1] ):\n",
    "        authors.iloc[3,i] = authors.iloc[3,i-1]\n",
    "        \n",
    "#그룹.세부그룹.직책으로 직책명 업데이트\n",
    "for i in range(6, authors.shape[1]):\n",
    "    authors.iloc[3,i] = authors.iloc[1,i] +\".\"+ authors.iloc[2,i] +\".\"+ authors.iloc[3,i]"
   ]
  },
  {
   "cell_type": "code",
   "execution_count": null,
   "id": "94862b83",
   "metadata": {},
   "outputs": [],
   "source": []
  },
  {
   "cell_type": "code",
   "execution_count": 202,
   "id": "d8be36ea",
   "metadata": {},
   "outputs": [],
   "source": [
    "\n",
    "\n",
    "#출력값 딕션어리 생성\n",
    "no_author_dict = {}\n",
    "for col in range(6, authors.shape[1]):\n",
    "    no_author_dict[ authors.iloc[3, col] ] = []\n",
    "    for row in range(4, len(authors)):\n",
    "        if authors.iloc[row, col] != 'O':\n",
    "            no_author_dict[ authors.iloc[3, col] ].append(authors.iloc[row, 3])"
   ]
  },
  {
   "cell_type": "code",
   "execution_count": 194,
   "id": "821a35a1",
   "metadata": {},
   "outputs": [],
   "source": [
    "authors = authors.drop(authors.index[0:3]) \n",
    "\n",
    "#출력값 딕션어리 생성\n",
    "no_author_dict = {}\n",
    "for col in range(6, authors.shape[1]):\n",
    "    no_author_dict[ authors.iloc[0, col] ] = authors[  authors.iloc[:, col].isna()  ].iloc[:, 3].tolist()"
   ]
  },
  {
   "cell_type": "code",
   "execution_count": 195,
   "id": "747365d0",
   "metadata": {},
   "outputs": [],
   "source": [
    "# authors.drop(authors.index[0:3]) #drop(0), drop(1), drop(2)를 한줄로 축약(NaN찾기 위해 앞의 0,1,2 row(NaN많은 row)지움)\n",
    "\n",
    "# authors.iloc[:, col].isna()     #col(숫자)번째 컬럼중에서 NaN(Not a Number)인 경우 true.\n",
    "# authors[  ]                     #위의 true인 경우 row들 집합\n",
    "# .iloc[:, 3]                     #중에서 3번째 컬럼(권한 코드명)\n",
    "# .tolist()                       #들을 list로 만듬"
   ]
  },
  {
   "cell_type": "code",
   "execution_count": 204,
   "id": "30f366c2",
   "metadata": {},
   "outputs": [
    {
     "data": {
      "text/html": [
       "<div>\n",
       "<style scoped>\n",
       "    .dataframe tbody tr th:only-of-type {\n",
       "        vertical-align: middle;\n",
       "    }\n",
       "\n",
       "    .dataframe tbody tr th {\n",
       "        vertical-align: top;\n",
       "    }\n",
       "\n",
       "    .dataframe thead th {\n",
       "        text-align: right;\n",
       "    }\n",
       "</style>\n",
       "<table border=\"1\" class=\"dataframe\">\n",
       "  <thead>\n",
       "    <tr style=\"text-align: right;\">\n",
       "      <th></th>\n",
       "      <th>Unnamed: 0</th>\n",
       "      <th>대한제분주식회사</th>\n",
       "      <th>Unnamed: 2</th>\n",
       "      <th>Unnamed: 3</th>\n",
       "      <th>Unnamed: 4</th>\n",
       "      <th>Unnamed: 5</th>\n",
       "      <th>Unnamed: 6</th>\n",
       "      <th>Unnamed: 7</th>\n",
       "      <th>Unnamed: 8</th>\n",
       "    </tr>\n",
       "  </thead>\n",
       "  <tbody>\n",
       "    <tr>\n",
       "      <th>0</th>\n",
       "      <td>NaN</td>\n",
       "      <td>지표들 모음</td>\n",
       "      <td>NaN</td>\n",
       "      <td>NaN</td>\n",
       "      <td>NaN</td>\n",
       "      <td>NaN</td>\n",
       "      <td>NaN</td>\n",
       "      <td>NaN</td>\n",
       "      <td>NaN</td>\n",
       "    </tr>\n",
       "    <tr>\n",
       "      <th>1</th>\n",
       "      <td>NaN</td>\n",
       "      <td>NaN</td>\n",
       "      <td>NaN</td>\n",
       "      <td>NaN</td>\n",
       "      <td>NaN</td>\n",
       "      <td>NaN</td>\n",
       "      <td>경영기획소속</td>\n",
       "      <td>경영기획소속</td>\n",
       "      <td>사무그룹</td>\n",
       "    </tr>\n",
       "    <tr>\n",
       "      <th>2</th>\n",
       "      <td>NaN</td>\n",
       "      <td>번호</td>\n",
       "      <td>범주</td>\n",
       "      <td>권한코드</td>\n",
       "      <td>권한명</td>\n",
       "      <td>카테고리</td>\n",
       "      <td>CEO</td>\n",
       "      <td>CEO</td>\n",
       "      <td>조정실</td>\n",
       "    </tr>\n",
       "    <tr>\n",
       "      <th>3</th>\n",
       "      <td>NaN</td>\n",
       "      <td>1</td>\n",
       "      <td>계정과목</td>\n",
       "      <td>CODE001</td>\n",
       "      <td>계정과목조회</td>\n",
       "      <td>재무제표</td>\n",
       "      <td>경영기획소속.CEO.책임</td>\n",
       "      <td>경영기획소속.CEO.선임</td>\n",
       "      <td>사무그룹.조정실.과장대우</td>\n",
       "    </tr>\n",
       "    <tr>\n",
       "      <th>4</th>\n",
       "      <td>NaN</td>\n",
       "      <td>2</td>\n",
       "      <td>손익계산지표</td>\n",
       "      <td>INCM002</td>\n",
       "      <td>손익계산서</td>\n",
       "      <td>재무제표</td>\n",
       "      <td>O</td>\n",
       "      <td>NaN</td>\n",
       "      <td>NaN</td>\n",
       "    </tr>\n",
       "    <tr>\n",
       "      <th>5</th>\n",
       "      <td>NaN</td>\n",
       "      <td>3</td>\n",
       "      <td>자본변동지표</td>\n",
       "      <td>CAPI003</td>\n",
       "      <td>자본변동표</td>\n",
       "      <td>재무제표</td>\n",
       "      <td>O</td>\n",
       "      <td>O</td>\n",
       "      <td>NaN</td>\n",
       "    </tr>\n",
       "  </tbody>\n",
       "</table>\n",
       "</div>"
      ],
      "text/plain": [
       "   Unnamed: 0 대한제분주식회사 Unnamed: 2 Unnamed: 3 Unnamed: 4 Unnamed: 5  \\\n",
       "0         NaN   지표들 모음        NaN        NaN        NaN        NaN   \n",
       "1         NaN      NaN        NaN        NaN        NaN        NaN   \n",
       "2         NaN       번호         범주       권한코드        권한명       카테고리   \n",
       "3         NaN        1       계정과목    CODE001     계정과목조회       재무제표   \n",
       "4         NaN        2     손익계산지표    INCM002      손익계산서       재무제표   \n",
       "5         NaN        3     자본변동지표    CAPI003      자본변동표       재무제표   \n",
       "\n",
       "      Unnamed: 6     Unnamed: 7     Unnamed: 8  \n",
       "0            NaN            NaN            NaN  \n",
       "1         경영기획소속         경영기획소속           사무그룹  \n",
       "2            CEO            CEO            조정실  \n",
       "3  경영기획소속.CEO.책임  경영기획소속.CEO.선임  사무그룹.조정실.과장대우  \n",
       "4              O            NaN            NaN  \n",
       "5              O              O            NaN  "
      ]
     },
     "execution_count": 204,
     "metadata": {},
     "output_type": "execute_result"
    }
   ],
   "source": [
    "authors"
   ]
  },
  {
   "cell_type": "code",
   "execution_count": 203,
   "id": "7cf415bf",
   "metadata": {},
   "outputs": [
    {
     "data": {
      "text/plain": [
       "{'경영기획소속.CEO.책임': [],\n",
       " '경영기획소속.CEO.선임': ['INCM002'],\n",
       " '사무그룹.조정실.과장대우': ['INCM002', 'CAPI003']}"
      ]
     },
     "execution_count": 203,
     "metadata": {},
     "output_type": "execute_result"
    }
   ],
   "source": [
    "no_author_dict"
   ]
  },
  {
   "cell_type": "code",
   "execution_count": null,
   "id": "aa4e4dbd",
   "metadata": {},
   "outputs": [],
   "source": []
  },
  {
   "cell_type": "code",
   "execution_count": 114,
   "id": "454a44b3",
   "metadata": {},
   "outputs": [
    {
     "name": "stdout",
     "output_type": "stream",
     "text": [
      "{'settings': [{'group': '그룹1.대표.대표이사', 'blockings': []}, {'group': '그룹1.대표.고문', 'blockings': []}, {'group': '그룹2.경영지원.본부장', 'blockings': []}, {'group': '그룹2.경영지원.IT', 'blockings': []}, {'group': '그룹3.사업전략.본부장 ', 'blockings': []}, {'group': '그룹4.사업전략.사업전략', 'blockings': []}, {'group': '그룹5.경영관리.CFO', 'blockings': []}, {'group': '그룹6.경영관리.재무/회계', 'blockings': ['TN001', 'TN002', 'TN003', 'TN004', 'TN005', 'CR001', 'CR002', 'CR003', 'CR004', 'CR005', 'CR006', 'CO001', 'CO002', 'CO003', 'CO035', 'CO004', 'CO005', 'CO006', 'CO009', 'CO010', 'CO036', 'CO037', 'CO038', 'CO039', 'CO018', 'CO019', 'CO020', 'CO021', 'CO022', 'CO024', 'CO025', 'CO026', 'CO027', 'CO028', 'CO029', 'CO030', 'CO031', 'CO032', 'HD002', 'HD004', 'HD005', 'HD006', 'HD008', 'HD009', 'HD010', 'HD012', 'HD016', 'HD017', 'HD018', 'HD020', 'HD021', 'HD022', 'HD024', 'HO001', 'HO002', 'HO003', 'HO004', 'AN001', 'AN002', 'AN003', 'AN004', 'AN005', 'AN006', 'AN007', 'AN019', 'AN020', 'AN016']}, {'group': '그룹7.SCM.본부장', 'blockings': []}, {'group': '그룹8.SCM.물류', 'blockings': ['TN005', 'CR007', 'CR008', 'CR009', 'CR010', 'CR011', 'CR012', 'CR013', 'CR014', 'CR015', 'CC001', 'CC002', 'CC003', 'CC004', 'CC005', 'CC006', 'CO037', 'CO038', 'CO039', 'HD017', 'HD018', 'HD020', 'HD021', 'HD022', 'HD024', 'AN019', 'AN020', 'AN008', 'AN009', 'AN010', 'AN011', 'AN012', 'AN013']}, {'group': '그룹9.SCM.구매', 'blockings': ['TN005', 'CR007', 'CR008', 'CR009', 'CR010', 'CR011', 'CR012', 'CR013', 'CR014', 'CR015', 'CC001', 'CC002', 'CC003', 'CC004', 'CC005', 'CC006', 'CO037', 'CO038', 'CO039', 'HD017', 'HD018', 'HD020', 'HD021', 'HD022', 'HD024', 'AN019', 'AN020', 'AN008', 'AN009', 'AN010', 'AN011', 'AN012', 'AN013']}, {'group': '그룹10.SCM.생산', 'blockings': ['TN005', 'CR007', 'CR008', 'CR009', 'CR010', 'CR011', 'CR012', 'CR013', 'CR014', 'CR015', 'CC001', 'CC002', 'CC003', 'CC004', 'CC005', 'CC006', 'CO037', 'CO038', 'CO039', 'HD017', 'HD018', 'HD020', 'HD021', 'HD022', 'HD024', 'AN019', 'AN020', 'AN008', 'AN009', 'AN010', 'AN011', 'AN012', 'AN013']}, {'group': '그룹11.SCM.B2B', 'blockings': ['TN005', 'CR007', 'CR008', 'CR009', 'CR010', 'CR011', 'CR012', 'CR013', 'CR014', 'CR015', 'CC001', 'CC002', 'CC003', 'CC004', 'CC005', 'CC006', 'CO037', 'CO038', 'CO039', 'HD017', 'HD018', 'HD020', 'HD021', 'HD022', 'HD024', 'AN019', 'AN020', 'AN008', 'AN009', 'AN010', 'AN011', 'AN012', 'AN013']}, {'group': '그룹12.개발운영.본부장/사업부장', 'blockings': []}, {'group': '그룹13.개발운영.운영', 'blockings': ['CR007', 'CR008', 'CR009', 'CR010', 'CR011', 'CR012', 'CR013', 'CR014', 'CR015', 'CC001', 'CC002', 'CC003', 'CC004', 'CC005', 'CC006', 'CO025', 'CO026', 'CO027', 'CO028', 'CO029', 'CO030', 'CO031', 'CO032', 'AN005', 'AN008', 'AN009', 'AN010', 'AN011', 'AN012', 'AN013', 'AN016']}, {'group': '그룹14.개발운영.운영지원', 'blockings': ['CR007', 'CR008', 'CR009', 'CR010', 'CR011', 'CR012', 'CR013', 'CR014', 'CR015', 'CC001', 'CC002', 'CC003', 'CC004', 'CC005', 'CC006', 'CO025', 'CO026', 'CO027', 'CO028', 'CO029', 'CO030', 'CO031', 'CO032', 'AN005', 'AN008', 'AN009', 'AN010', 'AN011', 'AN012', 'AN013', 'AN016']}, {'group': '그룹15.개발운영.점포개발', 'blockings': ['CR007', 'CR008', 'CR009', 'CR010', 'CR011', 'CR012', 'CR013', 'CR014', 'CR015', 'CC001', 'CC002', 'CC003', 'CC004', 'CC005', 'CC006', 'CO025', 'CO026', 'CO027', 'CO028', 'CO029', 'CO030', 'CO031', 'CO032', 'AN005', 'AN008', 'AN009', 'AN010', 'AN011', 'AN012', 'AN013', 'AN016']}, {'group': '그룹16.맘스피치.본부장', 'blockings': ['TN001', 'TN002', 'TN003', 'TN004', 'TN005', 'CR001', 'CR002', 'CR003', 'CR004', 'CR005', 'CR006', 'CR007', 'CR008', 'CR009', 'CR010', 'CR011', 'CR012', 'CR013', 'CR014', 'CR015', 'CC001', 'CC002', 'CC003', 'CC004', 'CC005', 'CC006', 'CO001', 'CO002', 'CO003', 'CO035', 'CO004', 'CO005', 'CO006', 'CO009', 'CO010', 'CO036', 'CO037', 'CO038', 'CO039', 'CO018', 'CO019', 'CO020', 'CO021', 'CO022', 'CO024', 'CO025', 'CO026', 'CO027', 'CO028', 'CO029', 'CO030', 'CO031', 'CO032', 'HD002', 'HD004', 'HD005', 'HD006', 'HD008', 'HD009', 'HD010', 'HD012', 'HD016', 'HD017', 'HD018', 'HD020', 'HD021', 'HD022', 'HD024', 'HO001', 'HO002', 'HO003', 'HO004', 'AN001', 'AN002', 'AN003', 'AN004', 'AN005', 'AN006', 'AN007', 'AN019', 'AN020', 'AN008', 'AN009', 'AN010', 'AN011', 'AN012', 'AN013', 'AN016']}, {'group': '그룹17.맘스피치.운영', 'blockings': ['TN001', 'TN002', 'TN003', 'TN004', 'TN005', 'CR001', 'CR002', 'CR003', 'CR004', 'CR005', 'CR006', 'CR007', 'CR008', 'CR009', 'CR010', 'CR011', 'CR012', 'CR013', 'CR014', 'CR015', 'CC001', 'CC002', 'CC003', 'CC004', 'CC005', 'CC006', 'CO001', 'CO002', 'CO003', 'CO035', 'CO004', 'CO005', 'CO006', 'CO009', 'CO010', 'CO036', 'CO037', 'CO038', 'CO039', 'CO018', 'CO019', 'CO020', 'CO021', 'CO022', 'CO024', 'CO025', 'CO026', 'CO027', 'CO028', 'CO029', 'CO030', 'CO031', 'CO032', 'HD002', 'HD004', 'HD005', 'HD006', 'HD008', 'HD009', 'HD010', 'HD012', 'HD016', 'HD017', 'HD018', 'HD020', 'HD021', 'HD022', 'HD024', 'HO001', 'HO002', 'HO003', 'HO004', 'AN001', 'AN002', 'AN003', 'AN004', 'AN005', 'AN006', 'AN007', 'AN019', 'AN020', 'AN008', 'AN009', 'AN010', 'AN011', 'AN012', 'AN013', 'AN016']}, {'group': '그룹18.품질관리.본부장', 'blockings': []}, {'group': '그룹19.품질관리.품질관리', 'blockings': []}, {'group': '그룹20.품질관리.CS', 'blockings': ['TN001', 'TN002', 'TN003', 'TN005', 'CR001', 'CR002', 'CR003', 'CR004', 'CR005', 'CR006', 'CR007', 'CR008', 'CR009', 'CR010', 'CR011', 'CR012', 'CR013', 'CR014', 'CR015', 'CC001', 'CC002', 'CC003', 'CC004', 'CC005', 'CC006', 'CO001', 'CO002', 'CO003', 'CO035', 'CO004', 'CO005', 'CO006', 'CO009', 'CO010', 'CO037', 'CO038', 'CO039', 'CO020', 'CO021', 'CO022', 'CO025', 'CO026', 'CO027', 'CO028', 'CO029', 'CO030', 'CO031', 'CO032', 'HD002', 'HD004', 'HD005', 'HD006', 'HD008', 'HD009', 'HD010', 'HD012', 'HD016', 'HD017', 'HD018', 'HD020', 'HD021', 'HD022', 'HD024', 'HO001', 'HO002', 'HO003', 'HO004', 'AN001', 'AN002', 'AN003', 'AN004', 'AN005', 'AN006', 'AN007', 'AN019', 'AN020', 'AN008', 'AN009', 'AN010', 'AN011', 'AN012', 'AN013', 'AN016']}, {'group': '그룹 21.경영전략부문.부문장', 'blockings': []}, {'group': '그룹 22.경영전략부문.마케팅', 'blockings': []}]}\n"
     ]
    }
   ],
   "source": [
    "#json 변환 위한 dict생성\n",
    "return_dict = {}\n",
    "return_dict[\"settings\"] = []\n",
    "\n",
    "\n",
    "for key in no_author_dict.keys():\n",
    "    element_dict = {}\n",
    "    element_dict[\"group\"] = key\n",
    "    element_dict[\"blockings\"] = no_author_dict[key]\n",
    "\n",
    "\n",
    "    return_dict[\"settings\"].append(element_dict)\n",
    "\n",
    "print(return_dict)\n",
    "            \n",
    "        "
   ]
  },
  {
   "cell_type": "code",
   "execution_count": 113,
   "id": "f4fb80f0",
   "metadata": {},
   "outputs": [
    {
     "name": "stdout",
     "output_type": "stream",
     "text": [
      "['TN001', 'TN002', 'TN003', 'TN004', 'TN005', 'CR001', 'CR002', 'CR003', 'CR004', 'CR005', 'CR006', 'CO001', 'CO002', 'CO003', 'CO035', 'CO004', 'CO005', 'CO006', 'CO009', 'CO010', 'CO036', 'CO037', 'CO038', 'CO039', 'CO018', 'CO019', 'CO020', 'CO021', 'CO022', 'CO024', 'CO025', 'CO026', 'CO027', 'CO028', 'CO029', 'CO030', 'CO031', 'CO032', 'HD002', 'HD004', 'HD005', 'HD006', 'HD008', 'HD009', 'HD010', 'HD012', 'HD016', 'HD017', 'HD018', 'HD020', 'HD021', 'HD022', 'HD024', 'HO001', 'HO002', 'HO003', 'HO004', 'AN001', 'AN002', 'AN003', 'AN004', 'AN005', 'AN006', 'AN007', 'AN019', 'AN020', 'AN016']\n"
     ]
    }
   ],
   "source": [
    "print(no_author_dict['그룹6.경영관리.재무/회계'])"
   ]
  },
  {
   "cell_type": "code",
   "execution_count": 112,
   "id": "ef2aa02a",
   "metadata": {},
   "outputs": [
    {
     "name": "stdout",
     "output_type": "stream",
     "text": [
      "[]\n"
     ]
    }
   ],
   "source": [
    "print(no_author_dict['그룹1.대표.대표이사'])"
   ]
  },
  {
   "cell_type": "code",
   "execution_count": null,
   "id": "53bf228c",
   "metadata": {},
   "outputs": [],
   "source": [
    "#cmp for outputs"
   ]
  },
  {
   "cell_type": "code",
   "execution_count": 197,
   "id": "94ba08d9",
   "metadata": {},
   "outputs": [],
   "source": [
    "cmp1 = \"{'settings': [{'group': '그룹1.대표.대표이사', 'blockings': []}, {'group': '그룹1.대표.고문', 'blockings': []}, {'group': '그룹2.경영지원.본부장', 'blockings': []}, {'groupkings': []}, {'group': '그룹3.사업전략.본부장 ', 'blockings': []}, {'group': '그룹4.사업전략.사업전략', 'blockings': []}, {'group': '그룹5.경영관리.CFO', 'blockings': []}, ', 'blockings': ['TN001', 'TN002', 'TN003', 'TN004', 'TN005', 'CR001', 'CR002', 'CR003', 'CR004', 'CR005', 'CR006', 'CO001', 'CO002', 'CO003', 'CO035', 'CO004', 'CO005', 'CO006', 'CO009', 'CO010', 'CO036', 'CO037', 'CO038', 'CO039', 'CO018', 'CO019', 'CO020', 'CO021', 'CO022', 'CO024', 'CO025', 'CO026', 'CO027', 'CO028', 'CO029', 'CO030', 'CO031', 'CO032', 'HD002', 'HD004', 'HD005', 'HD006', 'HD008', 'HD009', 'HD010', 'HD012', 'HD016', 'HD017', 'HD018', 'HD020', 'HD021', 'HD022', 'HD024', 'HO001', 'HO002', 'HO003', 'HO004', 'AN001', 'AN002', 'AN003', 'AN004', 'AN005', 'AN006', 'AN007', 'AN019', 'AN020', 'AN016']}, {'group': '그룹7.SCM.본부장', 'blockings': []}, {'group': '그룹8.S 'blockings': ['TN005', 'CR007', 'CR008', 'CR009', 'CR010', 'CR011', 'CR012', 'CR013', 'CR014', 'CR015', 'CC001', 'CC002', 'CC003', 'CC004', 'CC005', 'CC006', 'CO037', 'CO038', 'CO039', 'HD017', 'HD018', 'HD020', 'HD021', 'HD022', 'HD024', 'AN019', 'AN020', 'AN008', 'AN009', 'AN010', 'AN011', 'AN012', 'AN013']}, {'group': '그룹9.SCM.구매', 'bings': ['TN005', 'CR007', 'CR008', 'CR009', 'CR010', 'CR011', 'CR012', 'CR013', 'CR014', 'CR015', 'CC001', 'CC002', 'CC003', 'CC004', 'CC005', 'CC006', 'CO037', 'CO038', 'CO039', 'HD017', 'HD018', 'HD020', 'HD021', 'HD022', 'HD024', 'AN019', 'AN020', 'AN008', 'AN009', 'AN010', 'AN011', 'AN012', 'AN013']}, {'group': '그룹10.SCM.생산', 'blockin ['TN005', 'CR007', 'CR008', 'CR009', 'CR010', 'CR011', 'CR012', 'CR013', 'CR014', 'CR015', 'CC001', 'CC002', 'CC003', 'CC004', 'CC005', 'CC006', 'CO037', 'CO038', 'CO039', 'HD017', 'HD018', 'HD020', 'HD021', 'HD022', 'HD024', 'AN019', 'AN020', 'AN008', 'AN009', 'AN010', 'AN011', 'AN012', 'AN013']}, {'group': '그룹11.SCM.B2B', 'blockings': ['005', 'CR007', 'CR008', 'CR009', 'CR010', 'CR011', 'CR012', 'CR013', 'CR014', 'CR015', 'CC001', 'CC002', 'CC003', 'CC004', 'CC005', 'CC006', 'CO037', 'CO038', 'CO039', 'HD017', 'HD018', 'HD020', 'HD021', 'HD022', 'HD024', 'AN019', 'AN020', 'AN008', 'AN009', 'AN010', 'AN011', 'AN012', 'AN013']}, {'group': '그룹12.개발운영.본부장/사업부장', 'bl, {'group': '그룹13.개발운영.운영', 'blockings': ['CR007', 'CR008', 'CR009', 'CR010', 'CR011', 'CR012', 'CR013', 'CR014', 'CR015', 'CC001', 'CC002', 'CC003', 'CC004', 'CC0006', 'CO025', 'CO026', 'CO027', 'CO028', 'CO029', 'CO030', 'CO031', 'CO032', 'AN005', 'AN008', 'AN009', 'AN010', 'AN011', 'AN012', 'AN013', 'AN016']}, {'group': '그룹14.개발운영지원', 'blockings': ['CR007', 'CR008', 'CR009', 'CR010', 'CR011', 'CR012', 'CR013', 'CR014', 'CR015', 'CC001', 'CC002', 'CC003', 'CC004', 'CC005', 'CC006', 'CO025', 'CO026', 'CO027', 'CO028', 'CO029', 'CO030', 'CO031', 'CO032', 'AN005', 'AN008', 'AN009', 'AN010', 'AN011', 'AN012', 'AN013', 'AN016']}, {'group': '그룹15.개발운영.점포개발', ': ['CR007', 'CR008', 'CR009', 'CR010', 'CR011', 'CR012', 'CR013', 'CR014', 'CR015', 'CC001', 'CC002', 'CC003', 'CC004', 'CC005', 'CC006', 'CO025', 'CO026', 'CO027', 'CO028', 'CO029', 'CO030', 'CO031', 'CO032', 'AN005', 'AN008', 'AN009', 'AN010', 'AN011', 'AN012', 'AN013', 'AN016']}, {'group': '그룹16.맘스피치.본부장', 'blockings': ['TN001', 'TN003', 'TN004', 'TN005', 'CR001', 'CR002', 'CR003', 'CR004', 'CR005', 'CR006', 'CR007', 'CR008', 'CR009', 'CR010', 'CR011', 'CR012', 'CR013', 'CR014', 'CR015', 'CC001', 'CC002', 'CC003', 'CC004', 'CC005', 'CC006', 'CO001', 'CO002', 'CO003', 'CO035', 'CO004', 'CO005', 'CO006', 'CO009', 'CO010', 'CO036', 'CO037', 'CO038', 'CO039', 'CO018', 'CO019', 'CO020', 'CO021', 'CO022', 'CO024', 'CO025', 'CO026', 'CO027', 'CO028', 'CO029', 'CO030', 'CO031', 'CO032', 'HD002', 'HD004', 'HD005', 'HD006', 'HD008', 'HD009', 'HD010', 'HD012', 'HD016', 'HD017', 'HD018', 'HD020', 'HD021', 'HD022', 'HD024', 'HO001', 'HO002', 'HO003', 'HO004', 'AN001', 'AN002', 'AN003', 'AN004', 'AN005', 'AN006', 'AN007', 'AN019', 'AN020', 'AN008', 'AN009', 'AN010', 'AN011', 'AN012', 'AN013', 'AN016']}, {'group': '그룹17.맘스피치.운영', 'blockings': ['TN001', 'TN002', 'TN003', 'TN004',  'CR001', 'CR002', 'CR003', 'CR004', 'CR005', 'CR006', 'CR007', 'CR008', 'CR009', 'CR010', 'CR011', 'CR012', 'CR013', 'CR014', 'CR015', 'CC001', 'CC002', 'CC003', 'CC004', 'CC005', 'CC006', 'CO001', 'CO002', 'CO003', 'CO035', 'CO004', 'CO005', 'CO006', 'CO009', 'CO010', 'CO036', 'CO037', 'CO038', 'CO039', 'CO018', 'CO019', 'CO020', 'CO021', 'CO022', 'CO024', 'CO025', 'CO026', 'CO027', 'CO028', 'CO029', 'CO030', 'CO031', 'CO032', 'HD002', 'HD004', 'HD005', 'HD006', 'HD008', 'HD009', 'HD010', 'HD012', 'HD016', 'HD017', 'HD018', 'HD020', 'HD021', 'HD022', 'HD024', 'HO001', 'HO002', 'HO003', 'HO004', 'AN001', 'AN002', 'AN003', 'AN004', 'AN005', 'AN006', 'AN007', 'AN019', 'AN020', 'AN008', 'AN009', 'AN010', 'AN011', 'AN012', 'AN013', 'AN016']}, {'group': '그룹18.품질관리.본부장', 'blockings': []}, {'group': '그룹19.품질관리.품질관리', 'blockings': []}, 리.CS', 'blockings': ['TN001', 'TN002', 'TN003', 'TN005', 'CR001', 'CR002', 'CR003', 'CR004', 'CR005', 'CR006', 'CR007', 'CR008', 'CR009', 'CR010', 'CR011', 'CR012', 'CR013, 'CR014', 'CR015', 'CC001', 'CC002', 'CC003', 'CC004', 'CC005', 'CC006', 'CO001', 'CO002', 'CO003', 'CO035', 'CO004', 'CO005', 'CO006', 'CO009', 'CO010', 'CO037', 'CO038', 'CO039', 'CO020', 'CO021', 'CO022', 'CO025', 'CO026', 'CO027', 'CO028', 'CO029', 'CO030', 'CO031', 'CO032', 'HD002', 'HD004', 'HD005', 'HD006', 'HD008', 'HD009', 'HD010', 'HD012', 'HD016', 'HD017', 'HD018', 'HD020', 'HD021', 'HD022', 'HD024', 'HO001', 'HO002', 'HO003', 'HO004', 'AN001', 'AN002', 'AN003', 'AN004', 'AN005', 'AN006', 'AN007', 'AN019', 'AN020', 'AN008', 'AN009', 'AN010', 'AN011', 'AN012', 'AN013', 'AN016']}, {'group': '그룹 21.경영전략부문.부문장', 'blockings': []}, {'group': '그룹 22.경영전략부문 []}]}\"\n",
    "cmp2 = \"{'settings': [{'group': '그룹1.대표.대표이사', 'blockings': []}, {'group': '그룹1.대표.고문', 'blockings': []}, {'group': '그룹2.경영지원.본부장', 'blockings': []}, {'groupkings': []}, {'group': '그룹3.사업전략.본부장 ', 'blockings': []}, {'group': '그룹4.사업전략.사업전략', 'blockings': []}, {'group': '그룹5.경영관리.CFO', 'blockings': []}, ', 'blockings': ['TN001', 'TN002', 'TN003', 'TN004', 'TN005', 'CR001', 'CR002', 'CR003', 'CR004', 'CR005', 'CR006', 'CO001', 'CO002', 'CO003', 'CO035', 'CO004', 'CO005', 'CO006', 'CO009', 'CO010', 'CO036', 'CO037', 'CO038', 'CO039', 'CO018', 'CO019', 'CO020', 'CO021', 'CO022', 'CO024', 'CO025', 'CO026', 'CO027', 'CO028', 'CO029', 'CO030', 'CO031', 'CO032', 'HD002', 'HD004', 'HD005', 'HD006', 'HD008', 'HD009', 'HD010', 'HD012', 'HD016', 'HD017', 'HD018', 'HD020', 'HD021', 'HD022', 'HD024', 'HO001', 'HO002', 'HO003', 'HO004', 'AN001', 'AN002', 'AN003', 'AN004', 'AN005', 'AN006', 'AN007', 'AN019', 'AN020', 'AN016']}, {'group': '그룹7.SCM.본부장', 'blockings': []}, {'group': '그룹8.S 'blockings': ['TN005', 'CR007', 'CR008', 'CR009', 'CR010', 'CR011', 'CR012', 'CR013', 'CR014', 'CR015', 'CC001', 'CC002', 'CC003', 'CC004', 'CC005', 'CC006', 'CO037', 'CO038', 'CO039', 'HD017', 'HD018', 'HD020', 'HD021', 'HD022', 'HD024', 'AN019', 'AN020', 'AN008', 'AN009', 'AN010', 'AN011', 'AN012', 'AN013']}, {'group': '그룹9.SCM.구매', 'bings': ['TN005', 'CR007', 'CR008', 'CR009', 'CR010', 'CR011', 'CR012', 'CR013', 'CR014', 'CR015', 'CC001', 'CC002', 'CC003', 'CC004', 'CC005', 'CC006', 'CO037', 'CO038', 'CO039', 'HD017', 'HD018', 'HD020', 'HD021', 'HD022', 'HD024', 'AN019', 'AN020', 'AN008', 'AN009', 'AN010', 'AN011', 'AN012', 'AN013']}, {'group': '그룹10.SCM.생산', 'blockin ['TN005', 'CR007', 'CR008', 'CR009', 'CR010', 'CR011', 'CR012', 'CR013', 'CR014', 'CR015', 'CC001', 'CC002', 'CC003', 'CC004', 'CC005', 'CC006', 'CO037', 'CO038', 'CO039', 'HD017', 'HD018', 'HD020', 'HD021', 'HD022', 'HD024', 'AN019', 'AN020', 'AN008', 'AN009', 'AN010', 'AN011', 'AN012', 'AN013']}, {'group': '그룹11.SCM.B2B', 'blockings': ['005', 'CR007', 'CR008', 'CR009', 'CR010', 'CR011', 'CR012', 'CR013', 'CR014', 'CR015', 'CC001', 'CC002', 'CC003', 'CC004', 'CC005', 'CC006', 'CO037', 'CO038', 'CO039', 'HD017', 'HD018', 'HD020', 'HD021', 'HD022', 'HD024', 'AN019', 'AN020', 'AN008', 'AN009', 'AN010', 'AN011', 'AN012', 'AN013']}, {'group': '그룹12.개발운영.본부장/사업부장', 'bl, {'group': '그룹13.개발운영.운영', 'blockings': ['CR007', 'CR008', 'CR009', 'CR010', 'CR011', 'CR012', 'CR013', 'CR014', 'CR015', 'CC001', 'CC002', 'CC003', 'CC004', 'CC0006', 'CO025', 'CO026', 'CO027', 'CO028', 'CO029', 'CO030', 'CO031', 'CO032', 'AN005', 'AN008', 'AN009', 'AN010', 'AN011', 'AN012', 'AN013', 'AN016']}, {'group': '그룹14.개발운영지원', 'blockings': ['CR007', 'CR008', 'CR009', 'CR010', 'CR011', 'CR012', 'CR013', 'CR014', 'CR015', 'CC001', 'CC002', 'CC003', 'CC004', 'CC005', 'CC006', 'CO025', 'CO026', 'CO027', 'CO028', 'CO029', 'CO030', 'CO031', 'CO032', 'AN005', 'AN008', 'AN009', 'AN010', 'AN011', 'AN012', 'AN013', 'AN016']}, {'group': '그룹15.개발운영.점포개발', ': ['CR007', 'CR008', 'CR009', 'CR010', 'CR011', 'CR012', 'CR013', 'CR014', 'CR015', 'CC001', 'CC002', 'CC003', 'CC004', 'CC005', 'CC006', 'CO025', 'CO026', 'CO027', 'CO028', 'CO029', 'CO030', 'CO031', 'CO032', 'AN005', 'AN008', 'AN009', 'AN010', 'AN011', 'AN012', 'AN013', 'AN016']}, {'group': '그룹16.맘스피치.본부장', 'blockings': ['TN001', 'TN003', 'TN004', 'TN005', 'CR001', 'CR002', 'CR003', 'CR004', 'CR005', 'CR006', 'CR007', 'CR008', 'CR009', 'CR010', 'CR011', 'CR012', 'CR013', 'CR014', 'CR015', 'CC001', 'CC002', 'CC003', 'CC004', 'CC005', 'CC006', 'CO001', 'CO002', 'CO003', 'CO035', 'CO004', 'CO005', 'CO006', 'CO009', 'CO010', 'CO036', 'CO037', 'CO038', 'CO039', 'CO018', 'CO019', 'CO020', 'CO021', 'CO022', 'CO024', 'CO025', 'CO026', 'CO027', 'CO028', 'CO029', 'CO030', 'CO031', 'CO032', 'HD002', 'HD004', 'HD005', 'HD006', 'HD008', 'HD009', 'HD010', 'HD012', 'HD016', 'HD017', 'HD018', 'HD020', 'HD021', 'HD022', 'HD024', 'HO001', 'HO002', 'HO003', 'HO004', 'AN001', 'AN002', 'AN003', 'AN004', 'AN005', 'AN006', 'AN007', 'AN019', 'AN020', 'AN008', 'AN009', 'AN010', 'AN011', 'AN012', 'AN013', 'AN016']}, {'group': '그룹17.맘스피치.운영', 'blockings': ['TN001', 'TN002', 'TN003', 'TN004',  'CR001', 'CR002', 'CR003', 'CR004', 'CR005', 'CR006', 'CR007', 'CR008', 'CR009', 'CR010', 'CR011', 'CR012', 'CR013', 'CR014', 'CR015', 'CC001', 'CC002', 'CC003', 'CC004', 'CC005', 'CC006', 'CO001', 'CO002', 'CO003', 'CO035', 'CO004', 'CO005', 'CO006', 'CO009', 'CO010', 'CO036', 'CO037', 'CO038', 'CO039', 'CO018', 'CO019', 'CO020', 'CO021', 'CO022', 'CO024', 'CO025', 'CO026', 'CO027', 'CO028', 'CO029', 'CO030', 'CO031', 'CO032', 'HD002', 'HD004', 'HD005', 'HD006', 'HD008', 'HD009', 'HD010', 'HD012', 'HD016', 'HD017', 'HD018', 'HD020', 'HD021', 'HD022', 'HD024', 'HO001', 'HO002', 'HO003', 'HO004', 'AN001', 'AN002', 'AN003', 'AN004', 'AN005', 'AN006', 'AN007', 'AN019', 'AN020', 'AN008', 'AN009', 'AN010', 'AN011', 'AN012', 'AN013', 'AN016']}, {'group': '그룹18.품질관리.본부장', 'blockings': []}, {'group': '그룹19.품질관리.품질관리', 'blockings': []}, 리.CS', 'blockings': ['TN001', 'TN002', 'TN003', 'TN005', 'CR001', 'CR002', 'CR003', 'CR004', 'CR005', 'CR006', 'CR007', 'CR008', 'CR009', 'CR010', 'CR011', 'CR012', 'CR013, 'CR014', 'CR015', 'CC001', 'CC002', 'CC003', 'CC004', 'CC005', 'CC006', 'CO001', 'CO002', 'CO003', 'CO035', 'CO004', 'CO005', 'CO006', 'CO009', 'CO010', 'CO037', 'CO038', 'CO039', 'CO020', 'CO021', 'CO022', 'CO025', 'CO026', 'CO027', 'CO028', 'CO029', 'CO030', 'CO031', 'CO032', 'HD002', 'HD004', 'HD005', 'HD006', 'HD008', 'HD009', 'HD010', 'HD012', 'HD016', 'HD017', 'HD018', 'HD020', 'HD021', 'HD022', 'HD024', 'HO001', 'HO002', 'HO003', 'HO004', 'AN001', 'AN002', 'AN003', 'AN004', 'AN005', 'AN006', 'AN007', 'AN019', 'AN020', 'AN008', 'AN009', 'AN010', 'AN011', 'AN012', 'AN013', 'AN016']}, {'group': '그룹 21.경영전략부문.부문장', 'blockings': []}, {'group': '그룹 22.경영전략부문 []}]}\"\n"
   ]
  },
  {
   "cell_type": "code",
   "execution_count": 198,
   "id": "882928be",
   "metadata": {},
   "outputs": [
    {
     "name": "stdout",
     "output_type": "stream",
     "text": [
      "True\n"
     ]
    }
   ],
   "source": [
    "print( cmp1 == cmp2 )"
   ]
  },
  {
   "cell_type": "code",
   "execution_count": null,
   "id": "2c7d1417",
   "metadata": {},
   "outputs": [],
   "source": [
    "{'settings': [{'group': '경영기획소속.CEO.책임', 'blockings': []}, {'group': '경영기획소속.CEO.선임', 'blockings': ['INCM002']}, {'group': '사무그룹.조정실.과장대우', 'bloc3']}]}\n"
   ]
  }
 ],
 "metadata": {
  "kernelspec": {
   "display_name": "Python 3 (ipykernel)",
   "language": "python",
   "name": "python3"
  },
  "language_info": {
   "codemirror_mode": {
    "name": "ipython",
    "version": 3
   },
   "file_extension": ".py",
   "mimetype": "text/x-python",
   "name": "python",
   "nbconvert_exporter": "python",
   "pygments_lexer": "ipython3",
   "version": "3.10.8"
  }
 },
 "nbformat": 4,
 "nbformat_minor": 5
}
