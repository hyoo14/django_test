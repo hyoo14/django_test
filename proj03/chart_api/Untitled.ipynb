{
 "cells": [
  {
   "cell_type": "code",
   "execution_count": null,
   "id": "456f6601",
   "metadata": {},
   "outputs": [],
   "source": []
  },
  {
   "cell_type": "code",
   "execution_count": 52,
   "id": "b734f798",
   "metadata": {},
   "outputs": [],
   "source": [
    "import os\n",
    "import tempfile"
   ]
  },
  {
   "cell_type": "code",
   "execution_count": 53,
   "id": "79958ed6",
   "metadata": {},
   "outputs": [],
   "source": [
    "client_id = \"hyunwoo.yoo@hyperlounge.ai\"\n",
    "client_secret = \"hype0Tes1\"\n",
    "site_url = \"https://hyperlounge.sharepoint.com/\"\n",
    "\n",
    "\n",
    "from office365.sharepoint.client_context import ClientContext"
   ]
  },
  {
   "cell_type": "code",
   "execution_count": 54,
   "id": "53649cfd",
   "metadata": {},
   "outputs": [],
   "source": [
    "from office365.runtime.auth.client_credential import ClientCredential"
   ]
  },
  {
   "cell_type": "code",
   "execution_count": 55,
   "id": "4265a185",
   "metadata": {},
   "outputs": [],
   "source": [
    "from office365.runtime.auth.user_credential import UserCredential"
   ]
  },
  {
   "cell_type": "code",
   "execution_count": 56,
   "id": "1ebfd56a",
   "metadata": {},
   "outputs": [],
   "source": [
    "ctx = ClientContext(site_url).with_credentials(UserCredential(client_id, client_secret) )\n",
    "#ClientContext.connect_with_credentials(site_url, ClientCredential(client_id, client_secret))"
   ]
  },
  {
   "cell_type": "code",
   "execution_count": 57,
   "id": "9d9e25bf",
   "metadata": {},
   "outputs": [
    {
     "name": "stdout",
     "output_type": "stream",
     "text": [
      "<office365.sharepoint.client_context.ClientContext object at 0x110329720>\n"
     ]
    }
   ],
   "source": [
    "print(ctx)"
   ]
  },
  {
   "cell_type": "code",
   "execution_count": null,
   "id": "9ac0cf0b",
   "metadata": {},
   "outputs": [],
   "source": []
  },
  {
   "cell_type": "code",
   "execution_count": null,
   "id": "2e24e30e",
   "metadata": {},
   "outputs": [],
   "source": []
  },
  {
   "cell_type": "code",
   "execution_count": 59,
   "id": "bb2c8f49",
   "metadata": {},
   "outputs": [],
   "source": [
    "#file_url = \"/sites/team/Shared Documents/!2022/Financial Sample.xlsx\"\n",
    "\n",
    "#file_url = \"/sites/dev/Shared Documents/General/test/맘스터치권한세팅.xlsx\"\n",
    "file_url = \"/sites/dev/Shared Documents/General/팀 회의 자료/PF_플랫폼팀/20220809_임시영문화_BE_관련_한글문구.xlsx\"\n",
    "\n",
    "\n",
    "download_path = os.path.join(tempfile.mkdtemp(), os.path.basename(file_url))"
   ]
  },
  {
   "cell_type": "code",
   "execution_count": 60,
   "id": "c3b5b642",
   "metadata": {},
   "outputs": [
    {
     "name": "stderr",
     "output_type": "stream",
     "text": [
      "An error occurred while retrieving token from XML response: AADSTS50076: Due to a configuration change made by your administrator, or because you moved to a new location, you must use multi-factor authentication to access ''.\n"
     ]
    },
    {
     "ename": "ValueError",
     "evalue": "An error occurred while retrieving token from XML response: AADSTS50076: Due to a configuration change made by your administrator, or because you moved to a new location, you must use multi-factor authentication to access ''.",
     "output_type": "error",
     "traceback": [
      "\u001b[0;31m---------------------------------------------------------------------------\u001b[0m",
      "\u001b[0;31mValueError\u001b[0m                                Traceback (most recent call last)",
      "Cell \u001b[0;32mIn[60], line 2\u001b[0m\n\u001b[1;32m      1\u001b[0m \u001b[38;5;28;01mwith\u001b[39;00m \u001b[38;5;28mopen\u001b[39m(download_path, \u001b[38;5;124m\"\u001b[39m\u001b[38;5;124mwb\u001b[39m\u001b[38;5;124m\"\u001b[39m) \u001b[38;5;28;01mas\u001b[39;00m local_file:\n\u001b[0;32m----> 2\u001b[0m     file \u001b[38;5;241m=\u001b[39m \u001b[43mctx\u001b[49m\u001b[38;5;241;43m.\u001b[39;49m\u001b[43mweb\u001b[49m\u001b[38;5;241;43m.\u001b[39;49m\u001b[43mget_file_by_server_relative_url\u001b[49m\u001b[43m(\u001b[49m\u001b[43mfile_url\u001b[49m\u001b[43m)\u001b[49m\u001b[38;5;241;43m.\u001b[39;49m\u001b[43mdownload\u001b[49m\u001b[43m(\u001b[49m\u001b[43mlocal_file\u001b[49m\u001b[43m)\u001b[49m\u001b[38;5;241;43m.\u001b[39;49m\u001b[43mexecute_query\u001b[49m\u001b[43m(\u001b[49m\u001b[43m)\u001b[49m\n\u001b[1;32m      3\u001b[0m     \u001b[38;5;66;03m#file = ctx.web.get_file_by_server_relative_url(file_url).download(local_file).execute_query()\u001b[39;00m\n\u001b[1;32m      4\u001b[0m \u001b[38;5;28mprint\u001b[39m(\u001b[38;5;124m\"\u001b[39m\u001b[38;5;124m[Ok] file has been downloaded into: \u001b[39m\u001b[38;5;132;01m{0}\u001b[39;00m\u001b[38;5;124m\"\u001b[39m\u001b[38;5;241m.\u001b[39mformat(download_path))\n",
      "File \u001b[0;32m~/Projects/proj02/pyenv/lib/python3.10/site-packages/office365/runtime/client_object.py:44\u001b[0m, in \u001b[0;36mClientObject.execute_query\u001b[0;34m(self)\u001b[0m\n\u001b[1;32m     38\u001b[0m \u001b[38;5;28;01mdef\u001b[39;00m \u001b[38;5;21mexecute_query\u001b[39m(\u001b[38;5;28mself\u001b[39m):\n\u001b[1;32m     39\u001b[0m     \u001b[38;5;124;03m\"\"\"\u001b[39;00m\n\u001b[1;32m     40\u001b[0m \u001b[38;5;124;03m    Submit request(s) to the server\u001b[39;00m\n\u001b[1;32m     41\u001b[0m \n\u001b[1;32m     42\u001b[0m \u001b[38;5;124;03m    :type self: T\u001b[39;00m\n\u001b[1;32m     43\u001b[0m \u001b[38;5;124;03m    \"\"\"\u001b[39;00m\n\u001b[0;32m---> 44\u001b[0m     \u001b[38;5;28;43mself\u001b[39;49m\u001b[38;5;241;43m.\u001b[39;49m\u001b[43mcontext\u001b[49m\u001b[38;5;241;43m.\u001b[39;49m\u001b[43mexecute_query\u001b[49m\u001b[43m(\u001b[49m\u001b[43m)\u001b[49m\n\u001b[1;32m     45\u001b[0m     \u001b[38;5;28;01mreturn\u001b[39;00m \u001b[38;5;28mself\u001b[39m\n",
      "File \u001b[0;32m~/Projects/proj02/pyenv/lib/python3.10/site-packages/office365/runtime/client_runtime_context.py:162\u001b[0m, in \u001b[0;36mClientRuntimeContext.execute_query\u001b[0;34m(self)\u001b[0m\n\u001b[1;32m    160\u001b[0m \u001b[38;5;28;01mwhile\u001b[39;00m \u001b[38;5;28mself\u001b[39m\u001b[38;5;241m.\u001b[39mhas_pending_request:\n\u001b[1;32m    161\u001b[0m     qry \u001b[38;5;241m=\u001b[39m \u001b[38;5;28mself\u001b[39m\u001b[38;5;241m.\u001b[39m_get_next_query()\n\u001b[0;32m--> 162\u001b[0m     \u001b[38;5;28;43mself\u001b[39;49m\u001b[38;5;241;43m.\u001b[39;49m\u001b[43mpending_request\u001b[49m\u001b[43m(\u001b[49m\u001b[43m)\u001b[49m\u001b[38;5;241;43m.\u001b[39;49m\u001b[43mexecute_query\u001b[49m\u001b[43m(\u001b[49m\u001b[43mqry\u001b[49m\u001b[43m)\u001b[49m\n",
      "File \u001b[0;32m~/Projects/proj02/pyenv/lib/python3.10/site-packages/office365/runtime/client_request.py:57\u001b[0m, in \u001b[0;36mClientRequest.execute_query\u001b[0;34m(self, query)\u001b[0m\n\u001b[1;32m     55\u001b[0m \u001b[38;5;28;01mtry\u001b[39;00m:\n\u001b[1;32m     56\u001b[0m     request \u001b[38;5;241m=\u001b[39m \u001b[38;5;28mself\u001b[39m\u001b[38;5;241m.\u001b[39mbuild_request(query)\n\u001b[0;32m---> 57\u001b[0m     response \u001b[38;5;241m=\u001b[39m \u001b[38;5;28;43mself\u001b[39;49m\u001b[38;5;241;43m.\u001b[39;49m\u001b[43mexecute_request_direct\u001b[49m\u001b[43m(\u001b[49m\u001b[43mrequest\u001b[49m\u001b[43m)\u001b[49m\n\u001b[1;32m     58\u001b[0m     response\u001b[38;5;241m.\u001b[39mraise_for_status()\n\u001b[1;32m     59\u001b[0m     \u001b[38;5;28mself\u001b[39m\u001b[38;5;241m.\u001b[39mprocess_response(response, query)\n",
      "File \u001b[0;32m~/Projects/proj02/pyenv/lib/python3.10/site-packages/office365/runtime/client_request.py:69\u001b[0m, in \u001b[0;36mClientRequest.execute_request_direct\u001b[0;34m(self, request)\u001b[0m\n\u001b[1;32m     64\u001b[0m \u001b[38;5;28;01mdef\u001b[39;00m \u001b[38;5;21mexecute_request_direct\u001b[39m(\u001b[38;5;28mself\u001b[39m, request):\n\u001b[1;32m     65\u001b[0m     \u001b[38;5;124;03m\"\"\"Execute the client request\u001b[39;00m\n\u001b[1;32m     66\u001b[0m \n\u001b[1;32m     67\u001b[0m \u001b[38;5;124;03m    :type request: office365.runtime.http.request_options.RequestOptions\u001b[39;00m\n\u001b[1;32m     68\u001b[0m \u001b[38;5;124;03m    \"\"\"\u001b[39;00m\n\u001b[0;32m---> 69\u001b[0m     \u001b[38;5;28;43mself\u001b[39;49m\u001b[38;5;241;43m.\u001b[39;49m\u001b[43mbeforeExecute\u001b[49m\u001b[38;5;241;43m.\u001b[39;49m\u001b[43mnotify\u001b[49m\u001b[43m(\u001b[49m\u001b[43mrequest\u001b[49m\u001b[43m)\u001b[49m\n\u001b[1;32m     70\u001b[0m     \u001b[38;5;28;01mif\u001b[39;00m request\u001b[38;5;241m.\u001b[39mmethod \u001b[38;5;241m==\u001b[39m HttpMethod\u001b[38;5;241m.\u001b[39mPost:\n\u001b[1;32m     71\u001b[0m         \u001b[38;5;28;01mif\u001b[39;00m request\u001b[38;5;241m.\u001b[39mis_bytes \u001b[38;5;129;01mor\u001b[39;00m request\u001b[38;5;241m.\u001b[39mis_file:\n",
      "File \u001b[0;32m~/Projects/proj02/pyenv/lib/python3.10/site-packages/office365/runtime/types/event_handler.py:21\u001b[0m, in \u001b[0;36mEventHandler.notify\u001b[0;34m(self, *args, **kwargs)\u001b[0m\n\u001b[1;32m     19\u001b[0m \u001b[38;5;28;01mif\u001b[39;00m \u001b[38;5;28mself\u001b[39m\u001b[38;5;241m.\u001b[39m_once:\n\u001b[1;32m     20\u001b[0m     \u001b[38;5;28mself\u001b[39m\u001b[38;5;241m.\u001b[39m_listeners\u001b[38;5;241m.\u001b[39mremove(listener)\n\u001b[0;32m---> 21\u001b[0m \u001b[43mlistener\u001b[49m\u001b[43m(\u001b[49m\u001b[38;5;241;43m*\u001b[39;49m\u001b[43margs\u001b[49m\u001b[43m,\u001b[49m\u001b[43m \u001b[49m\u001b[38;5;241;43m*\u001b[39;49m\u001b[38;5;241;43m*\u001b[39;49m\u001b[43mkwargs\u001b[49m\u001b[43m)\u001b[49m\n",
      "File \u001b[0;32m~/Projects/proj02/pyenv/lib/python3.10/site-packages/office365/sharepoint/client_context.py:212\u001b[0m, in \u001b[0;36mClientContext._authenticate_request\u001b[0;34m(self, request)\u001b[0m\n\u001b[1;32m    211\u001b[0m \u001b[38;5;28;01mdef\u001b[39;00m \u001b[38;5;21m_authenticate_request\u001b[39m(\u001b[38;5;28mself\u001b[39m, request):\n\u001b[0;32m--> 212\u001b[0m     \u001b[38;5;28;43mself\u001b[39;49m\u001b[38;5;241;43m.\u001b[39;49m\u001b[43mauthentication_context\u001b[49m\u001b[38;5;241;43m.\u001b[39;49m\u001b[43mauthenticate_request\u001b[49m\u001b[43m(\u001b[49m\u001b[43mrequest\u001b[49m\u001b[43m)\u001b[49m\n",
      "File \u001b[0;32m~/Projects/proj02/pyenv/lib/python3.10/site-packages/office365/runtime/auth/authentication_context.py:97\u001b[0m, in \u001b[0;36mAuthenticationContext.authenticate_request\u001b[0;34m(self, request)\u001b[0m\n\u001b[1;32m     91\u001b[0m \u001b[38;5;28;01mdef\u001b[39;00m \u001b[38;5;21mauthenticate_request\u001b[39m(\u001b[38;5;28mself\u001b[39m, request):\n\u001b[1;32m     92\u001b[0m     \u001b[38;5;124;03m\"\"\"\u001b[39;00m\n\u001b[1;32m     93\u001b[0m \u001b[38;5;124;03m    Authenticate request\u001b[39;00m\n\u001b[1;32m     94\u001b[0m \n\u001b[1;32m     95\u001b[0m \u001b[38;5;124;03m    :type request: office365.runtime.http.request_options.RequestOptions\u001b[39;00m\n\u001b[1;32m     96\u001b[0m \u001b[38;5;124;03m    \"\"\"\u001b[39;00m\n\u001b[0;32m---> 97\u001b[0m     \u001b[38;5;28;43mself\u001b[39;49m\u001b[38;5;241;43m.\u001b[39;49m\u001b[43m_provider\u001b[49m\u001b[38;5;241;43m.\u001b[39;49m\u001b[43mauthenticate_request\u001b[49m\u001b[43m(\u001b[49m\u001b[43mrequest\u001b[49m\u001b[43m)\u001b[49m\n",
      "File \u001b[0;32m~/Projects/proj02/pyenv/lib/python3.10/site-packages/office365/runtime/auth/providers/saml_token_provider.py:77\u001b[0m, in \u001b[0;36mSamlTokenProvider.authenticate_request\u001b[0;34m(self, request)\u001b[0m\n\u001b[1;32m     72\u001b[0m \u001b[38;5;124;03m\"\"\"\u001b[39;00m\n\u001b[1;32m     73\u001b[0m \n\u001b[1;32m     74\u001b[0m \u001b[38;5;124;03m:param request:\u001b[39;00m\n\u001b[1;32m     75\u001b[0m \u001b[38;5;124;03m\"\"\"\u001b[39;00m\n\u001b[1;32m     76\u001b[0m logger \u001b[38;5;241m=\u001b[39m \u001b[38;5;28mself\u001b[39m\u001b[38;5;241m.\u001b[39mlogger(\u001b[38;5;28mself\u001b[39m\u001b[38;5;241m.\u001b[39mauthenticate_request\u001b[38;5;241m.\u001b[39m\u001b[38;5;18m__name__\u001b[39m)\n\u001b[0;32m---> 77\u001b[0m \u001b[38;5;28;43mself\u001b[39;49m\u001b[38;5;241;43m.\u001b[39;49m\u001b[43mensure_authentication_cookie\u001b[49m\u001b[43m(\u001b[49m\u001b[43m)\u001b[49m\n\u001b[1;32m     78\u001b[0m logger\u001b[38;5;241m.\u001b[39mdebug_secrets(\u001b[38;5;28mself\u001b[39m\u001b[38;5;241m.\u001b[39m_cached_auth_cookies)\n\u001b[1;32m     79\u001b[0m cookie_header_value \u001b[38;5;241m=\u001b[39m \u001b[38;5;124m\"\u001b[39m\u001b[38;5;124m; \u001b[39m\u001b[38;5;124m\"\u001b[39m\u001b[38;5;241m.\u001b[39mjoin([\u001b[38;5;124m\"\u001b[39m\u001b[38;5;124m=\u001b[39m\u001b[38;5;124m\"\u001b[39m\u001b[38;5;241m.\u001b[39mjoin([key, \u001b[38;5;28mstr\u001b[39m(val)]) \u001b[38;5;28;01mfor\u001b[39;00m key, val \u001b[38;5;129;01min\u001b[39;00m \u001b[38;5;28mself\u001b[39m\u001b[38;5;241m.\u001b[39m_cached_auth_cookies\u001b[38;5;241m.\u001b[39mitems()])\n",
      "File \u001b[0;32m~/Projects/proj02/pyenv/lib/python3.10/site-packages/office365/runtime/auth/providers/saml_token_provider.py:84\u001b[0m, in \u001b[0;36mSamlTokenProvider.ensure_authentication_cookie\u001b[0;34m(self)\u001b[0m\n\u001b[1;32m     82\u001b[0m \u001b[38;5;28;01mdef\u001b[39;00m \u001b[38;5;21mensure_authentication_cookie\u001b[39m(\u001b[38;5;28mself\u001b[39m):\n\u001b[1;32m     83\u001b[0m     \u001b[38;5;28;01mif\u001b[39;00m \u001b[38;5;28mself\u001b[39m\u001b[38;5;241m.\u001b[39m_cached_auth_cookies \u001b[38;5;129;01mis\u001b[39;00m \u001b[38;5;28;01mNone\u001b[39;00m:\n\u001b[0;32m---> 84\u001b[0m         \u001b[38;5;28mself\u001b[39m\u001b[38;5;241m.\u001b[39m_cached_auth_cookies \u001b[38;5;241m=\u001b[39m \u001b[38;5;28;43mself\u001b[39;49m\u001b[38;5;241;43m.\u001b[39;49m\u001b[43mget_authentication_cookie\u001b[49m\u001b[43m(\u001b[49m\u001b[43m)\u001b[49m\n\u001b[1;32m     85\u001b[0m     \u001b[38;5;28;01mreturn\u001b[39;00m \u001b[38;5;28;01mTrue\u001b[39;00m\n",
      "File \u001b[0;32m~/Projects/proj02/pyenv/lib/python3.10/site-packages/office365/runtime/auth/providers/saml_token_provider.py:99\u001b[0m, in \u001b[0;36mSamlTokenProvider.get_authentication_cookie\u001b[0;34m(self)\u001b[0m\n\u001b[1;32m     97\u001b[0m         token \u001b[38;5;241m=\u001b[39m \u001b[38;5;28mself\u001b[39m\u001b[38;5;241m.\u001b[39m_acquire_service_token_from_adfs(user_realm\u001b[38;5;241m.\u001b[39mSTSAuthUrl)\n\u001b[1;32m     98\u001b[0m     \u001b[38;5;28;01melse\u001b[39;00m:\n\u001b[0;32m---> 99\u001b[0m         token \u001b[38;5;241m=\u001b[39m \u001b[38;5;28;43mself\u001b[39;49m\u001b[38;5;241;43m.\u001b[39;49m\u001b[43m_acquire_service_token\u001b[49m\u001b[43m(\u001b[49m\u001b[43m)\u001b[49m\n\u001b[1;32m    100\u001b[0m     \u001b[38;5;28;01mreturn\u001b[39;00m \u001b[38;5;28mself\u001b[39m\u001b[38;5;241m.\u001b[39m_get_authentication_cookie(token, user_realm\u001b[38;5;241m.\u001b[39mIsFederated)\n\u001b[1;32m    101\u001b[0m \u001b[38;5;28;01mexcept\u001b[39;00m requests\u001b[38;5;241m.\u001b[39mexceptions\u001b[38;5;241m.\u001b[39mRequestException \u001b[38;5;28;01mas\u001b[39;00m e:\n",
      "File \u001b[0;32m~/Projects/proj02/pyenv/lib/python3.10/site-packages/office365/runtime/auth/providers/saml_token_provider.py:176\u001b[0m, in \u001b[0;36mSamlTokenProvider._acquire_service_token\u001b[0;34m(self)\u001b[0m\n\u001b[1;32m    173\u001b[0m logger\u001b[38;5;241m.\u001b[39mdebug_secrets(\u001b[38;5;124m'\u001b[39m\u001b[38;5;124moptions: \u001b[39m\u001b[38;5;132;01m%s\u001b[39;00m\u001b[38;5;124m'\u001b[39m, payload)\n\u001b[1;32m    174\u001b[0m response \u001b[38;5;241m=\u001b[39m requests\u001b[38;5;241m.\u001b[39mpost(\u001b[38;5;28mself\u001b[39m\u001b[38;5;241m.\u001b[39m_sts_profile\u001b[38;5;241m.\u001b[39msecurity_token_service_url, data\u001b[38;5;241m=\u001b[39mpayload,\n\u001b[1;32m    175\u001b[0m                          headers\u001b[38;5;241m=\u001b[39m{\u001b[38;5;124m'\u001b[39m\u001b[38;5;124mContent-Type\u001b[39m\u001b[38;5;124m'\u001b[39m: \u001b[38;5;124m'\u001b[39m\u001b[38;5;124mapplication/x-www-form-urlencoded\u001b[39m\u001b[38;5;124m'\u001b[39m})\n\u001b[0;32m--> 176\u001b[0m token \u001b[38;5;241m=\u001b[39m \u001b[38;5;28;43mself\u001b[39;49m\u001b[38;5;241;43m.\u001b[39;49m\u001b[43m_process_service_token_response\u001b[49m\u001b[43m(\u001b[49m\u001b[43mresponse\u001b[49m\u001b[43m)\u001b[49m\n\u001b[1;32m    177\u001b[0m logger\u001b[38;5;241m.\u001b[39mdebug_secrets(\u001b[38;5;124m'\u001b[39m\u001b[38;5;124msecurity token: \u001b[39m\u001b[38;5;132;01m%s\u001b[39;00m\u001b[38;5;124m'\u001b[39m, token)\n\u001b[1;32m    178\u001b[0m \u001b[38;5;28;01mreturn\u001b[39;00m token\n",
      "File \u001b[0;32m~/Projects/proj02/pyenv/lib/python3.10/site-packages/office365/runtime/auth/providers/saml_token_provider.py:201\u001b[0m, in \u001b[0;36mSamlTokenProvider._process_service_token_response\u001b[0;34m(self, response)\u001b[0m\n\u001b[1;32m    199\u001b[0m         \u001b[38;5;28mself\u001b[39m\u001b[38;5;241m.\u001b[39merror \u001b[38;5;241m=\u001b[39m \u001b[38;5;124m'\u001b[39m\u001b[38;5;124mAn error occurred while retrieving token from XML response: \u001b[39m\u001b[38;5;132;01m{0}\u001b[39;00m\u001b[38;5;124m'\u001b[39m\u001b[38;5;241m.\u001b[39mformat(error\u001b[38;5;241m.\u001b[39mtext)\n\u001b[1;32m    200\u001b[0m     logger\u001b[38;5;241m.\u001b[39merror(\u001b[38;5;28mself\u001b[39m\u001b[38;5;241m.\u001b[39merror)\n\u001b[0;32m--> 201\u001b[0m     \u001b[38;5;28;01mraise\u001b[39;00m \u001b[38;5;167;01mValueError\u001b[39;00m(\u001b[38;5;28mself\u001b[39m\u001b[38;5;241m.\u001b[39merror)\n\u001b[1;32m    203\u001b[0m \u001b[38;5;66;03m# extract token\u001b[39;00m\n\u001b[1;32m    204\u001b[0m token \u001b[38;5;241m=\u001b[39m xml\u001b[38;5;241m.\u001b[39mfind(\n\u001b[1;32m    205\u001b[0m     \u001b[38;5;124m'\u001b[39m\u001b[38;5;132;01m{0}\u001b[39;00m\u001b[38;5;124mBody/\u001b[39m\u001b[38;5;132;01m{1}\u001b[39;00m\u001b[38;5;124mRequestSecurityTokenResponse/\u001b[39m\u001b[38;5;132;01m{1}\u001b[39;00m\u001b[38;5;124mRequestedSecurityToken/\u001b[39m\u001b[38;5;132;01m{2}\u001b[39;00m\u001b[38;5;124mBinarySecurityToken\u001b[39m\u001b[38;5;124m'\u001b[39m\u001b[38;5;241m.\u001b[39mformat(\n\u001b[1;32m    206\u001b[0m         \u001b[38;5;28mself\u001b[39m\u001b[38;5;241m.\u001b[39m__ns_prefixes[\u001b[38;5;124m'\u001b[39m\u001b[38;5;124ms\u001b[39m\u001b[38;5;124m'\u001b[39m], \u001b[38;5;28mself\u001b[39m\u001b[38;5;241m.\u001b[39m__ns_prefixes[\u001b[38;5;124m'\u001b[39m\u001b[38;5;124mwst\u001b[39m\u001b[38;5;124m'\u001b[39m], \u001b[38;5;28mself\u001b[39m\u001b[38;5;241m.\u001b[39m__ns_prefixes[\u001b[38;5;124m'\u001b[39m\u001b[38;5;124mwsse\u001b[39m\u001b[38;5;124m'\u001b[39m]))\n",
      "\u001b[0;31mValueError\u001b[0m: An error occurred while retrieving token from XML response: AADSTS50076: Due to a configuration change made by your administrator, or because you moved to a new location, you must use multi-factor authentication to access ''."
     ]
    }
   ],
   "source": [
    "with open(download_path, \"wb\") as local_file:\n",
    "    file = ctx.web.get_file_by_server_relative_url(file_url).download(local_file).execute_query()\n",
    "    #file = ctx.web.get_file_by_server_relative_url(file_url).download(local_file).execute_query()\n",
    "print(\"[Ok] file has been downloaded into: {0}\".format(download_path))"
   ]
  },
  {
   "cell_type": "code",
   "execution_count": null,
   "id": "57d7def4",
   "metadata": {},
   "outputs": [],
   "source": []
  },
  {
   "cell_type": "code",
   "execution_count": 44,
   "id": "b7ddebf3",
   "metadata": {},
   "outputs": [],
   "source": [
    "from office365.sharepoint.client_context import ClientContext\n",
    "from office365.runtime.auth.client_credential import ClientCredential\n",
    "\n",
    "\n",
    "app_principal = {\n",
    "    'client_id': client_id,\n",
    "    'client_secret': client_secret,\n",
    "}\n",
    "\n",
    "credentials = ClientCredential(app_principal['client_id'], app_principal['client_secret'])\n",
    "\n"
   ]
  },
  {
   "cell_type": "code",
   "execution_count": 45,
   "id": "9863cdac",
   "metadata": {},
   "outputs": [],
   "source": [
    "ctx = ClientContext(site_url).with_credentials(credentials)\n",
    "\n",
    "web = ctx.web"
   ]
  },
  {
   "cell_type": "code",
   "execution_count": null,
   "id": "dc6750ef",
   "metadata": {},
   "outputs": [],
   "source": []
  },
  {
   "cell_type": "code",
   "execution_count": 46,
   "id": "dbdb5b7f",
   "metadata": {
    "scrolled": false
   },
   "outputs": [
    {
     "ename": "ValueError",
     "evalue": "{\"error\":\"invalid_client\",\"error_description\":\"AADSTS70002: Client application name 'hyunwoo.yoo@hyperlounge.ai@0cad3bb2-0c3d-4882-aa6b-714ad34b84eb' is not valid or the credentials used to authenticate the client could not be understood by the server.\\r\\nTrace ID: 235412c7-5cea-4a46-85db-eaa67b6b6501\\r\\nCorrelation ID: 4b79ea7c-c836-4be0-a750-5850b52e3a1a\\r\\nTimestamp: 2022-12-14 06:38:14Z\",\"error_codes\":[70002],\"timestamp\":\"2022-12-14 06:38:14Z\",\"trace_id\":\"235412c7-5cea-4a46-85db-eaa67b6b6501\",\"correlation_id\":\"4b79ea7c-c836-4be0-a750-5850b52e3a1a\",\"error_uri\":\"https://accounts.accesscontrol.windows.net/error?code=70002\"}",
     "output_type": "error",
     "traceback": [
      "\u001b[0;31m---------------------------------------------------------------------------\u001b[0m",
      "\u001b[0;31mHTTPError\u001b[0m                                 Traceback (most recent call last)",
      "File \u001b[0;32m~/Projects/proj02/pyenv/lib/python3.10/site-packages/office365/runtime/auth/providers/acs_token_provider.py:43\u001b[0m, in \u001b[0;36mACSTokenProvider.get_app_only_access_token\u001b[0;34m(self)\u001b[0m\n\u001b[1;32m     42\u001b[0m     url_info \u001b[38;5;241m=\u001b[39m urlparse(\u001b[38;5;28mself\u001b[39m\u001b[38;5;241m.\u001b[39murl)\n\u001b[0;32m---> 43\u001b[0m     \u001b[38;5;28;01mreturn\u001b[39;00m \u001b[38;5;28;43mself\u001b[39;49m\u001b[38;5;241;43m.\u001b[39;49m\u001b[43m_get_app_only_access_token\u001b[49m\u001b[43m(\u001b[49m\u001b[43murl_info\u001b[49m\u001b[38;5;241;43m.\u001b[39;49m\u001b[43mhostname\u001b[49m\u001b[43m,\u001b[49m\u001b[43m \u001b[49m\u001b[43mrealm\u001b[49m\u001b[43m)\u001b[49m\n\u001b[1;32m     44\u001b[0m \u001b[38;5;28;01mexcept\u001b[39;00m requests\u001b[38;5;241m.\u001b[39mexceptions\u001b[38;5;241m.\u001b[39mRequestException \u001b[38;5;28;01mas\u001b[39;00m e:\n",
      "File \u001b[0;32m~/Projects/proj02/pyenv/lib/python3.10/site-packages/office365/runtime/auth/providers/acs_token_provider.py:66\u001b[0m, in \u001b[0;36mACSTokenProvider._get_app_only_access_token\u001b[0;34m(self, target_host, target_realm)\u001b[0m\n\u001b[1;32m     64\u001b[0m response \u001b[38;5;241m=\u001b[39m requests\u001b[38;5;241m.\u001b[39mpost(url\u001b[38;5;241m=\u001b[39msts_url, headers\u001b[38;5;241m=\u001b[39m{\u001b[38;5;124m'\u001b[39m\u001b[38;5;124mContent-Type\u001b[39m\u001b[38;5;124m'\u001b[39m: \u001b[38;5;124m'\u001b[39m\u001b[38;5;124mapplication/x-www-form-urlencoded\u001b[39m\u001b[38;5;124m'\u001b[39m},\n\u001b[1;32m     65\u001b[0m                          data\u001b[38;5;241m=\u001b[39moauth2_request)\n\u001b[0;32m---> 66\u001b[0m \u001b[43mresponse\u001b[49m\u001b[38;5;241;43m.\u001b[39;49m\u001b[43mraise_for_status\u001b[49m\u001b[43m(\u001b[49m\u001b[43m)\u001b[49m\n\u001b[1;32m     67\u001b[0m \u001b[38;5;28;01mreturn\u001b[39;00m TokenResponse\u001b[38;5;241m.\u001b[39mfrom_json(response\u001b[38;5;241m.\u001b[39mjson())\n",
      "File \u001b[0;32m~/Projects/proj02/pyenv/lib/python3.10/site-packages/requests/models.py:1021\u001b[0m, in \u001b[0;36mResponse.raise_for_status\u001b[0;34m(self)\u001b[0m\n\u001b[1;32m   1020\u001b[0m \u001b[38;5;28;01mif\u001b[39;00m http_error_msg:\n\u001b[0;32m-> 1021\u001b[0m     \u001b[38;5;28;01mraise\u001b[39;00m HTTPError(http_error_msg, response\u001b[38;5;241m=\u001b[39m\u001b[38;5;28mself\u001b[39m)\n",
      "\u001b[0;31mHTTPError\u001b[0m: 401 Client Error: Unauthorized for url: https://accounts.accesscontrol.windows.net/0cad3bb2-0c3d-4882-aa6b-714ad34b84eb/tokens/OAuth/2",
      "\nDuring handling of the above exception, another exception occurred:\n",
      "\u001b[0;31mValueError\u001b[0m                                Traceback (most recent call last)",
      "Cell \u001b[0;32mIn[46], line 2\u001b[0m\n\u001b[1;32m      1\u001b[0m ctx\u001b[38;5;241m.\u001b[39mload(web)\n\u001b[0;32m----> 2\u001b[0m \u001b[43mctx\u001b[49m\u001b[38;5;241;43m.\u001b[39;49m\u001b[43mexecute_query\u001b[49m\u001b[43m(\u001b[49m\u001b[43m)\u001b[49m\n\u001b[1;32m      3\u001b[0m \u001b[38;5;28mprint\u001b[39m(\u001b[38;5;124m\"\u001b[39m\u001b[38;5;124mWeb site title: \u001b[39m\u001b[38;5;132;01m{0}\u001b[39;00m\u001b[38;5;124m\"\u001b[39m\u001b[38;5;241m.\u001b[39mformat(web\u001b[38;5;241m.\u001b[39mproperties[\u001b[38;5;124m'\u001b[39m\u001b[38;5;124mTitle\u001b[39m\u001b[38;5;124m'\u001b[39m]))\n",
      "File \u001b[0;32m~/Projects/proj02/pyenv/lib/python3.10/site-packages/office365/runtime/client_runtime_context.py:162\u001b[0m, in \u001b[0;36mClientRuntimeContext.execute_query\u001b[0;34m(self)\u001b[0m\n\u001b[1;32m    160\u001b[0m \u001b[38;5;28;01mwhile\u001b[39;00m \u001b[38;5;28mself\u001b[39m\u001b[38;5;241m.\u001b[39mhas_pending_request:\n\u001b[1;32m    161\u001b[0m     qry \u001b[38;5;241m=\u001b[39m \u001b[38;5;28mself\u001b[39m\u001b[38;5;241m.\u001b[39m_get_next_query()\n\u001b[0;32m--> 162\u001b[0m     \u001b[38;5;28;43mself\u001b[39;49m\u001b[38;5;241;43m.\u001b[39;49m\u001b[43mpending_request\u001b[49m\u001b[43m(\u001b[49m\u001b[43m)\u001b[49m\u001b[38;5;241;43m.\u001b[39;49m\u001b[43mexecute_query\u001b[49m\u001b[43m(\u001b[49m\u001b[43mqry\u001b[49m\u001b[43m)\u001b[49m\n",
      "File \u001b[0;32m~/Projects/proj02/pyenv/lib/python3.10/site-packages/office365/runtime/client_request.py:57\u001b[0m, in \u001b[0;36mClientRequest.execute_query\u001b[0;34m(self, query)\u001b[0m\n\u001b[1;32m     55\u001b[0m \u001b[38;5;28;01mtry\u001b[39;00m:\n\u001b[1;32m     56\u001b[0m     request \u001b[38;5;241m=\u001b[39m \u001b[38;5;28mself\u001b[39m\u001b[38;5;241m.\u001b[39mbuild_request(query)\n\u001b[0;32m---> 57\u001b[0m     response \u001b[38;5;241m=\u001b[39m \u001b[38;5;28;43mself\u001b[39;49m\u001b[38;5;241;43m.\u001b[39;49m\u001b[43mexecute_request_direct\u001b[49m\u001b[43m(\u001b[49m\u001b[43mrequest\u001b[49m\u001b[43m)\u001b[49m\n\u001b[1;32m     58\u001b[0m     response\u001b[38;5;241m.\u001b[39mraise_for_status()\n\u001b[1;32m     59\u001b[0m     \u001b[38;5;28mself\u001b[39m\u001b[38;5;241m.\u001b[39mprocess_response(response, query)\n",
      "File \u001b[0;32m~/Projects/proj02/pyenv/lib/python3.10/site-packages/office365/runtime/client_request.py:69\u001b[0m, in \u001b[0;36mClientRequest.execute_request_direct\u001b[0;34m(self, request)\u001b[0m\n\u001b[1;32m     64\u001b[0m \u001b[38;5;28;01mdef\u001b[39;00m \u001b[38;5;21mexecute_request_direct\u001b[39m(\u001b[38;5;28mself\u001b[39m, request):\n\u001b[1;32m     65\u001b[0m     \u001b[38;5;124;03m\"\"\"Execute the client request\u001b[39;00m\n\u001b[1;32m     66\u001b[0m \n\u001b[1;32m     67\u001b[0m \u001b[38;5;124;03m    :type request: office365.runtime.http.request_options.RequestOptions\u001b[39;00m\n\u001b[1;32m     68\u001b[0m \u001b[38;5;124;03m    \"\"\"\u001b[39;00m\n\u001b[0;32m---> 69\u001b[0m     \u001b[38;5;28;43mself\u001b[39;49m\u001b[38;5;241;43m.\u001b[39;49m\u001b[43mbeforeExecute\u001b[49m\u001b[38;5;241;43m.\u001b[39;49m\u001b[43mnotify\u001b[49m\u001b[43m(\u001b[49m\u001b[43mrequest\u001b[49m\u001b[43m)\u001b[49m\n\u001b[1;32m     70\u001b[0m     \u001b[38;5;28;01mif\u001b[39;00m request\u001b[38;5;241m.\u001b[39mmethod \u001b[38;5;241m==\u001b[39m HttpMethod\u001b[38;5;241m.\u001b[39mPost:\n\u001b[1;32m     71\u001b[0m         \u001b[38;5;28;01mif\u001b[39;00m request\u001b[38;5;241m.\u001b[39mis_bytes \u001b[38;5;129;01mor\u001b[39;00m request\u001b[38;5;241m.\u001b[39mis_file:\n",
      "File \u001b[0;32m~/Projects/proj02/pyenv/lib/python3.10/site-packages/office365/runtime/types/event_handler.py:21\u001b[0m, in \u001b[0;36mEventHandler.notify\u001b[0;34m(self, *args, **kwargs)\u001b[0m\n\u001b[1;32m     19\u001b[0m \u001b[38;5;28;01mif\u001b[39;00m \u001b[38;5;28mself\u001b[39m\u001b[38;5;241m.\u001b[39m_once:\n\u001b[1;32m     20\u001b[0m     \u001b[38;5;28mself\u001b[39m\u001b[38;5;241m.\u001b[39m_listeners\u001b[38;5;241m.\u001b[39mremove(listener)\n\u001b[0;32m---> 21\u001b[0m \u001b[43mlistener\u001b[49m\u001b[43m(\u001b[49m\u001b[38;5;241;43m*\u001b[39;49m\u001b[43margs\u001b[49m\u001b[43m,\u001b[49m\u001b[43m \u001b[49m\u001b[38;5;241;43m*\u001b[39;49m\u001b[38;5;241;43m*\u001b[39;49m\u001b[43mkwargs\u001b[49m\u001b[43m)\u001b[49m\n",
      "File \u001b[0;32m~/Projects/proj02/pyenv/lib/python3.10/site-packages/office365/sharepoint/client_context.py:212\u001b[0m, in \u001b[0;36mClientContext._authenticate_request\u001b[0;34m(self, request)\u001b[0m\n\u001b[1;32m    211\u001b[0m \u001b[38;5;28;01mdef\u001b[39;00m \u001b[38;5;21m_authenticate_request\u001b[39m(\u001b[38;5;28mself\u001b[39m, request):\n\u001b[0;32m--> 212\u001b[0m     \u001b[38;5;28;43mself\u001b[39;49m\u001b[38;5;241;43m.\u001b[39;49m\u001b[43mauthentication_context\u001b[49m\u001b[38;5;241;43m.\u001b[39;49m\u001b[43mauthenticate_request\u001b[49m\u001b[43m(\u001b[49m\u001b[43mrequest\u001b[49m\u001b[43m)\u001b[49m\n",
      "File \u001b[0;32m~/Projects/proj02/pyenv/lib/python3.10/site-packages/office365/runtime/auth/authentication_context.py:97\u001b[0m, in \u001b[0;36mAuthenticationContext.authenticate_request\u001b[0;34m(self, request)\u001b[0m\n\u001b[1;32m     91\u001b[0m \u001b[38;5;28;01mdef\u001b[39;00m \u001b[38;5;21mauthenticate_request\u001b[39m(\u001b[38;5;28mself\u001b[39m, request):\n\u001b[1;32m     92\u001b[0m     \u001b[38;5;124;03m\"\"\"\u001b[39;00m\n\u001b[1;32m     93\u001b[0m \u001b[38;5;124;03m    Authenticate request\u001b[39;00m\n\u001b[1;32m     94\u001b[0m \n\u001b[1;32m     95\u001b[0m \u001b[38;5;124;03m    :type request: office365.runtime.http.request_options.RequestOptions\u001b[39;00m\n\u001b[1;32m     96\u001b[0m \u001b[38;5;124;03m    \"\"\"\u001b[39;00m\n\u001b[0;32m---> 97\u001b[0m     \u001b[38;5;28;43mself\u001b[39;49m\u001b[38;5;241;43m.\u001b[39;49m\u001b[43m_provider\u001b[49m\u001b[38;5;241;43m.\u001b[39;49m\u001b[43mauthenticate_request\u001b[49m\u001b[43m(\u001b[49m\u001b[43mrequest\u001b[49m\u001b[43m)\u001b[49m\n",
      "File \u001b[0;32m~/Projects/proj02/pyenv/lib/python3.10/site-packages/office365/runtime/auth/providers/acs_token_provider.py:31\u001b[0m, in \u001b[0;36mACSTokenProvider.authenticate_request\u001b[0;34m(self, request)\u001b[0m\n\u001b[1;32m     27\u001b[0m \u001b[38;5;28;01mdef\u001b[39;00m \u001b[38;5;21mauthenticate_request\u001b[39m(\u001b[38;5;28mself\u001b[39m, request):\n\u001b[1;32m     28\u001b[0m     \u001b[38;5;124;03m\"\"\"\u001b[39;00m\n\u001b[1;32m     29\u001b[0m \u001b[38;5;124;03m    :type request: office365.runtime.http.request_options.RequestOptions\u001b[39;00m\n\u001b[1;32m     30\u001b[0m \u001b[38;5;124;03m    \"\"\"\u001b[39;00m\n\u001b[0;32m---> 31\u001b[0m     \u001b[38;5;28;43mself\u001b[39;49m\u001b[38;5;241;43m.\u001b[39;49m\u001b[43mensure_app_only_access_token\u001b[49m\u001b[43m(\u001b[49m\u001b[43m)\u001b[49m\n\u001b[1;32m     32\u001b[0m     request\u001b[38;5;241m.\u001b[39mset_header(\u001b[38;5;124m'\u001b[39m\u001b[38;5;124mAuthorization\u001b[39m\u001b[38;5;124m'\u001b[39m, \u001b[38;5;28mself\u001b[39m\u001b[38;5;241m.\u001b[39m_get_authorization_header())\n",
      "File \u001b[0;32m~/Projects/proj02/pyenv/lib/python3.10/site-packages/office365/runtime/auth/providers/acs_token_provider.py:36\u001b[0m, in \u001b[0;36mACSTokenProvider.ensure_app_only_access_token\u001b[0;34m(self)\u001b[0m\n\u001b[1;32m     34\u001b[0m \u001b[38;5;28;01mdef\u001b[39;00m \u001b[38;5;21mensure_app_only_access_token\u001b[39m(\u001b[38;5;28mself\u001b[39m):\n\u001b[1;32m     35\u001b[0m     \u001b[38;5;28;01mif\u001b[39;00m \u001b[38;5;28mself\u001b[39m\u001b[38;5;241m.\u001b[39m_cached_token \u001b[38;5;129;01mis\u001b[39;00m \u001b[38;5;28;01mNone\u001b[39;00m:\n\u001b[0;32m---> 36\u001b[0m         \u001b[38;5;28mself\u001b[39m\u001b[38;5;241m.\u001b[39m_cached_token \u001b[38;5;241m=\u001b[39m \u001b[38;5;28;43mself\u001b[39;49m\u001b[38;5;241;43m.\u001b[39;49m\u001b[43mget_app_only_access_token\u001b[49m\u001b[43m(\u001b[49m\u001b[43m)\u001b[49m\n\u001b[1;32m     37\u001b[0m     \u001b[38;5;28;01mreturn\u001b[39;00m \u001b[38;5;28mself\u001b[39m\u001b[38;5;241m.\u001b[39m_cached_token \u001b[38;5;129;01mand\u001b[39;00m \u001b[38;5;28mself\u001b[39m\u001b[38;5;241m.\u001b[39m_cached_token\u001b[38;5;241m.\u001b[39mis_valid\n",
      "File \u001b[0;32m~/Projects/proj02/pyenv/lib/python3.10/site-packages/office365/runtime/auth/providers/acs_token_provider.py:46\u001b[0m, in \u001b[0;36mACSTokenProvider.get_app_only_access_token\u001b[0;34m(self)\u001b[0m\n\u001b[1;32m     44\u001b[0m \u001b[38;5;28;01mexcept\u001b[39;00m requests\u001b[38;5;241m.\u001b[39mexceptions\u001b[38;5;241m.\u001b[39mRequestException \u001b[38;5;28;01mas\u001b[39;00m e:\n\u001b[1;32m     45\u001b[0m     \u001b[38;5;28mself\u001b[39m\u001b[38;5;241m.\u001b[39merror \u001b[38;5;241m=\u001b[39m e\u001b[38;5;241m.\u001b[39mresponse\u001b[38;5;241m.\u001b[39mtext\n\u001b[0;32m---> 46\u001b[0m     \u001b[38;5;28;01mraise\u001b[39;00m \u001b[38;5;167;01mValueError\u001b[39;00m(e\u001b[38;5;241m.\u001b[39mresponse\u001b[38;5;241m.\u001b[39mtext)\n",
      "\u001b[0;31mValueError\u001b[0m: {\"error\":\"invalid_client\",\"error_description\":\"AADSTS70002: Client application name 'hyunwoo.yoo@hyperlounge.ai@0cad3bb2-0c3d-4882-aa6b-714ad34b84eb' is not valid or the credentials used to authenticate the client could not be understood by the server.\\r\\nTrace ID: 235412c7-5cea-4a46-85db-eaa67b6b6501\\r\\nCorrelation ID: 4b79ea7c-c836-4be0-a750-5850b52e3a1a\\r\\nTimestamp: 2022-12-14 06:38:14Z\",\"error_codes\":[70002],\"timestamp\":\"2022-12-14 06:38:14Z\",\"trace_id\":\"235412c7-5cea-4a46-85db-eaa67b6b6501\",\"correlation_id\":\"4b79ea7c-c836-4be0-a750-5850b52e3a1a\",\"error_uri\":\"https://accounts.accesscontrol.windows.net/error?code=70002\"}"
     ]
    }
   ],
   "source": [
    "ctx.load(web)\n",
    "ctx.execute_query()\n",
    "print(\"Web site title: {0}\".format(web.properties['Title']))"
   ]
  },
  {
   "cell_type": "code",
   "execution_count": null,
   "id": "c1c8bc1b",
   "metadata": {},
   "outputs": [],
   "source": []
  },
  {
   "cell_type": "code",
   "execution_count": null,
   "id": "74e904ac",
   "metadata": {},
   "outputs": [],
   "source": []
  },
  {
   "cell_type": "code",
   "execution_count": 49,
   "id": "b1d921a6",
   "metadata": {},
   "outputs": [
    {
     "name": "stdout",
     "output_type": "stream",
     "text": [
      "Collecting shareplum\n",
      "  Downloading SharePlum-0.5.1-py2.py3-none-any.whl (25 kB)\n",
      "Requirement already satisfied: requests in /Users/hl/Projects/proj02/pyenv/lib/python3.10/site-packages (from shareplum) (2.28.1)\n",
      "Collecting requests-ntlm\n",
      "  Downloading requests_ntlm-1.1.0-py2.py3-none-any.whl (5.7 kB)\n",
      "Collecting requests-toolbelt\n",
      "  Downloading requests_toolbelt-0.10.1-py2.py3-none-any.whl (54 kB)\n",
      "\u001b[2K     \u001b[90m━━━━━━━━━━━━━━━━━━━━━━━━━━━━━━━━━━━━━━━━\u001b[0m \u001b[32m54.5/54.5 kB\u001b[0m \u001b[31m1.7 MB/s\u001b[0m eta \u001b[36m0:00:00\u001b[0m\n",
      "\u001b[?25hCollecting lxml\n",
      "  Downloading lxml-4.9.2-cp310-cp310-macosx_10_15_x86_64.whl (4.7 MB)\n",
      "\u001b[2K     \u001b[90m━━━━━━━━━━━━━━━━━━━━━━━━━━━━━━━━━━━━━━━━\u001b[0m \u001b[32m4.7/4.7 MB\u001b[0m \u001b[31m30.0 MB/s\u001b[0m eta \u001b[36m0:00:00\u001b[0m00:01\u001b[0m00:01\u001b[0m\n",
      "\u001b[?25hRequirement already satisfied: certifi>=2017.4.17 in /Users/hl/Projects/proj02/pyenv/lib/python3.10/site-packages (from requests->shareplum) (2022.9.24)\n",
      "Requirement already satisfied: urllib3<1.27,>=1.21.1 in /Users/hl/Projects/proj02/pyenv/lib/python3.10/site-packages (from requests->shareplum) (1.26.13)\n",
      "Requirement already satisfied: idna<4,>=2.5 in /Users/hl/Projects/proj02/pyenv/lib/python3.10/site-packages (from requests->shareplum) (3.4)\n",
      "Requirement already satisfied: charset-normalizer<3,>=2 in /Users/hl/Projects/proj02/pyenv/lib/python3.10/site-packages (from requests->shareplum) (2.1.1)\n",
      "Requirement already satisfied: cryptography>=1.3 in /Users/hl/Projects/proj02/pyenv/lib/python3.10/site-packages (from requests-ntlm->shareplum) (38.0.4)\n",
      "Collecting ntlm-auth>=1.0.2\n",
      "  Downloading ntlm_auth-1.5.0-py2.py3-none-any.whl (29 kB)\n",
      "Requirement already satisfied: cffi>=1.12 in /Users/hl/Projects/proj02/pyenv/lib/python3.10/site-packages (from cryptography>=1.3->requests-ntlm->shareplum) (1.15.1)\n",
      "Requirement already satisfied: pycparser in /Users/hl/Projects/proj02/pyenv/lib/python3.10/site-packages (from cffi>=1.12->cryptography>=1.3->requests-ntlm->shareplum) (2.21)\n",
      "Installing collected packages: ntlm-auth, lxml, requests-toolbelt, requests-ntlm, shareplum\n",
      "Successfully installed lxml-4.9.2 ntlm-auth-1.5.0 requests-ntlm-1.1.0 requests-toolbelt-0.10.1 shareplum-0.5.1\n"
     ]
    }
   ],
   "source": [
    "!pip install shareplum"
   ]
  },
  {
   "cell_type": "code",
   "execution_count": 50,
   "id": "5c659547",
   "metadata": {},
   "outputs": [],
   "source": [
    "client_id = \"hyunwoo.yoo@hyperlounge.ai\"\n",
    "client_secret = \"hype0Tes1\"\n",
    "site_url = \"https://hyperlounge.sharepoint.com/\""
   ]
  },
  {
   "cell_type": "code",
   "execution_count": 51,
   "id": "eea37e9e",
   "metadata": {},
   "outputs": [
    {
     "ename": "Exception",
     "evalue": "('Error authenticating against Office 365. Error from Office 365:', \"AADSTS50076: Due to a configuration change made by your administrator, or because you moved to a new location, you must use multi-factor authentication to access ''.\")",
     "output_type": "error",
     "traceback": [
      "\u001b[0;31m---------------------------------------------------------------------------\u001b[0m",
      "\u001b[0;31mException\u001b[0m                                 Traceback (most recent call last)",
      "Cell \u001b[0;32mIn[51], line 4\u001b[0m\n\u001b[1;32m      1\u001b[0m \u001b[38;5;28;01mfrom\u001b[39;00m \u001b[38;5;21;01mshareplum\u001b[39;00m \u001b[38;5;28;01mimport\u001b[39;00m Site\n\u001b[1;32m      2\u001b[0m \u001b[38;5;28;01mfrom\u001b[39;00m \u001b[38;5;21;01mshareplum\u001b[39;00m \u001b[38;5;28;01mimport\u001b[39;00m Office365\n\u001b[0;32m----> 4\u001b[0m authcookie \u001b[38;5;241m=\u001b[39m \u001b[43mOffice365\u001b[49m\u001b[43m(\u001b[49m\u001b[43msite_url\u001b[49m\u001b[43m,\u001b[49m\u001b[43m \u001b[49m\u001b[43musername\u001b[49m\u001b[38;5;241;43m=\u001b[39;49m\u001b[43mclient_id\u001b[49m\u001b[43m,\u001b[49m\u001b[43m \u001b[49m\u001b[43mpassword\u001b[49m\u001b[38;5;241;43m=\u001b[39;49m\u001b[43mclient_secret\u001b[49m\u001b[43m)\u001b[49m\u001b[38;5;241;43m.\u001b[39;49m\u001b[43mGetCookies\u001b[49m\u001b[43m(\u001b[49m\u001b[43m)\u001b[49m\n\u001b[1;32m      5\u001b[0m site \u001b[38;5;241m=\u001b[39m Site(\u001b[38;5;124m'\u001b[39m\u001b[38;5;124mhttps://hyperlounge.sharepoint.com/sites/MySharePointSite/\u001b[39m\u001b[38;5;124m'\u001b[39m, authcookie\u001b[38;5;241m=\u001b[39mauthcookie)\n",
      "File \u001b[0;32m~/Projects/proj02/pyenv/lib/python3.10/site-packages/shareplum/office365.py:88\u001b[0m, in \u001b[0;36mOffice365.get_cookies\u001b[0;34m(self)\u001b[0m\n\u001b[1;32m     82\u001b[0m \u001b[38;5;28;01mdef\u001b[39;00m \u001b[38;5;21mget_cookies\u001b[39m(\u001b[38;5;28mself\u001b[39m):\n\u001b[1;32m     83\u001b[0m     \u001b[38;5;66;03m# type: () -> requests.cookies.RequestsCookieJar\u001b[39;00m\n\u001b[1;32m     84\u001b[0m     \u001b[38;5;124;03m\"\"\"\u001b[39;00m\n\u001b[1;32m     85\u001b[0m \u001b[38;5;124;03m    Grabs the cookies form your Office Sharepoint site\u001b[39;00m\n\u001b[1;32m     86\u001b[0m \u001b[38;5;124;03m    and uses it as Authentication for the rest of the calls\u001b[39;00m\n\u001b[1;32m     87\u001b[0m \u001b[38;5;124;03m    \"\"\"\u001b[39;00m\n\u001b[0;32m---> 88\u001b[0m     sectoken \u001b[38;5;241m=\u001b[39m \u001b[38;5;28;43mself\u001b[39;49m\u001b[38;5;241;43m.\u001b[39;49m\u001b[43mget_security_token\u001b[49m\u001b[43m(\u001b[49m\u001b[38;5;28;43mself\u001b[39;49m\u001b[38;5;241;43m.\u001b[39;49m\u001b[43musername\u001b[49m\u001b[43m,\u001b[49m\u001b[43m \u001b[49m\u001b[38;5;28;43mself\u001b[39;49m\u001b[38;5;241;43m.\u001b[39;49m\u001b[43mpassword\u001b[49m\u001b[43m)\u001b[49m\n\u001b[1;32m     89\u001b[0m     url \u001b[38;5;241m=\u001b[39m \u001b[38;5;28mself\u001b[39m\u001b[38;5;241m.\u001b[39mshare_point_site \u001b[38;5;241m+\u001b[39m \u001b[38;5;124m\"\u001b[39m\u001b[38;5;124m/_forms/default.aspx?wa=wsignin1.0\u001b[39m\u001b[38;5;124m\"\u001b[39m\n\u001b[1;32m     90\u001b[0m     response \u001b[38;5;241m=\u001b[39m post(requests, url, data\u001b[38;5;241m=\u001b[39msectoken)\n",
      "File \u001b[0;32m~/Projects/proj02/pyenv/lib/python3.10/site-packages/shareplum/office365.py:80\u001b[0m, in \u001b[0;36mOffice365.get_security_token\u001b[0;34m(self, username, password)\u001b[0m\n\u001b[1;32m     77\u001b[0m \u001b[38;5;28;01mif\u001b[39;00m \u001b[38;5;28mlen\u001b[39m(message) \u001b[38;5;241m<\u001b[39m \u001b[38;5;241m1\u001b[39m:\n\u001b[1;32m     78\u001b[0m     \u001b[38;5;28;01mraise\u001b[39;00m \u001b[38;5;167;01mException\u001b[39;00m(\u001b[38;5;124m'\u001b[39m\u001b[38;5;124mError authenticating against Office 365. Was not able to find an error code. Here is \u001b[39m\u001b[38;5;124m'\u001b[39m\n\u001b[1;32m     79\u001b[0m                     \u001b[38;5;124m'\u001b[39m\u001b[38;5;124mthe SOAP response from Office 365\u001b[39m\u001b[38;5;124m'\u001b[39m, response\u001b[38;5;241m.\u001b[39mcontent)\n\u001b[0;32m---> 80\u001b[0m \u001b[38;5;28;01mraise\u001b[39;00m \u001b[38;5;167;01mException\u001b[39;00m(\u001b[38;5;124m'\u001b[39m\u001b[38;5;124mError authenticating against Office 365. Error from Office 365:\u001b[39m\u001b[38;5;124m'\u001b[39m, message[\u001b[38;5;241m0\u001b[39m]\u001b[38;5;241m.\u001b[39mtext)\n",
      "\u001b[0;31mException\u001b[0m: ('Error authenticating against Office 365. Error from Office 365:', \"AADSTS50076: Due to a configuration change made by your administrator, or because you moved to a new location, you must use multi-factor authentication to access ''.\")"
     ]
    }
   ],
   "source": [
    "from shareplum import Site\n",
    "from shareplum import Office365\n",
    "\n",
    "authcookie = Office365(site_url, username=client_id, password=client_secret).GetCookies()\n",
    "site = Site('https://hyperlounge.sharepoint.com/sites/MySharePointSite/', authcookie=authcookie)"
   ]
  },
  {
   "cell_type": "code",
   "execution_count": null,
   "id": "dd4df246",
   "metadata": {},
   "outputs": [],
   "source": []
  }
 ],
 "metadata": {
  "kernelspec": {
   "display_name": "Python 3 (ipykernel)",
   "language": "python",
   "name": "python3"
  },
  "language_info": {
   "codemirror_mode": {
    "name": "ipython",
    "version": 3
   },
   "file_extension": ".py",
   "mimetype": "text/x-python",
   "name": "python",
   "nbconvert_exporter": "python",
   "pygments_lexer": "ipython3",
   "version": "3.10.8"
  }
 },
 "nbformat": 4,
 "nbformat_minor": 5
}
